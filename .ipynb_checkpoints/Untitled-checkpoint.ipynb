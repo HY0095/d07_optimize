{
 "cells": [
  {
   "cell_type": "code",
   "execution_count": 1,
   "metadata": {
    "collapsed": true
   },
   "outputs": [],
   "source": [
    "#coding:-*-utf-8-*-\n",
    "import json\n",
    "import pandas as pd"
   ]
  },
  {
   "cell_type": "code",
   "execution_count": 2,
   "metadata": {
    "collapsed": true
   },
   "outputs": [],
   "source": [
    "#product_json = [{\"firstCategoryId\":2,\"fouthCategoryId\":15,\"maxInvestAmount\":-1.00,\"minInvestAmount\":100.00,\"perIncAmount\":100.00,\"productDueDays\":181,\"productId\":7049,\"productRatio\":0.060000,\"secondCategoryId\":4,\"thirdCategoryId\":8},{\"firstCategoryId\":12,\"maxInvestAmount\":3000.00,\"minInvestAmount\":100.00,\"perIncAmount\":100.00,\"productDueDays\":90,\"productId\":7051,\"productRatio\":0.100000,\"secondCategoryId\":13}]"
   ]
  },
  {
   "cell_type": "code",
   "execution_count": 55,
   "metadata": {
    "collapsed": true
   },
   "outputs": [],
   "source": [
    "product_path = 'product_json.txt'"
   ]
  },
  {
   "cell_type": "code",
   "execution_count": 56,
   "metadata": {
    "collapsed": false
   },
   "outputs": [
    {
     "name": "stdout",
     "output_type": "stream",
     "text": [
      "[{u'productRatio': 0.06, u'secondCategoryId': 4, u'firstCategoryId': 2, u'perIncAmount': 100.0, u'productDueDays': 181, u'maxInvestAmount': -1.0, u'thirdCategoryId': 8, u'minInvestAmount': 100.0, u'fouthCategoryId': 15, u'productId': 7049}, {u'productRatio': 0.1, u'secondCategoryId': 13, u'firstCategoryId': 12, u'perIncAmount': 100.0, u'productDueDays': 90, u'maxInvestAmount': 3000.0, u'minInvestAmount': 100.0, u'productId': 7051}]\n"
     ]
    }
   ],
   "source": [
    "product_json= json.load(open(product_path,'r'))\n",
    "print product_json"
   ]
  },
  {
   "cell_type": "code",
   "execution_count": 12,
   "metadata": {
    "collapsed": false
   },
   "outputs": [],
   "source": [
    "encodejson = json.dumps(product_json , sort_keys= True)"
   ]
  },
  {
   "cell_type": "code",
   "execution_count": 13,
   "metadata": {
    "collapsed": false
   },
   "outputs": [],
   "source": [
    "decodejson = json.loads(encodejson)"
   ]
  },
  {
   "cell_type": "code",
   "execution_count": 14,
   "metadata": {
    "collapsed": false
   },
   "outputs": [
    {
     "name": "stdout",
     "output_type": "stream",
     "text": [
      "[{\"firstCategoryId\": 2, \"fouthCategoryId\": 15, \"maxInvestAmount\": -1.0, \"minInvestAmount\": 100.0, \"perIncAmount\": 100.0, \"productDueDays\": 181, \"productId\": 7049, \"productRatio\": 0.06, \"secondCategoryId\": 4, \"thirdCategoryId\": 8}, {\"firstCategoryId\": 12, \"maxInvestAmount\": 3000.0, \"minInvestAmount\": 100.0, \"perIncAmount\": 100.0, \"productDueDays\": 90, \"productId\": 7051, \"productRatio\": 0.1, \"secondCategoryId\": 13}]\n"
     ]
    }
   ],
   "source": [
    "print encodejson"
   ]
  },
  {
   "cell_type": "code",
   "execution_count": 45,
   "metadata": {
    "collapsed": false
   },
   "outputs": [
    {
     "data": {
      "text/plain": [
       "[u'productRatio',\n",
       " u'secondCategoryId',\n",
       " u'firstCategoryId',\n",
       " u'perIncAmount',\n",
       " u'productDueDays',\n",
       " u'maxInvestAmount',\n",
       " u'thirdCategoryId',\n",
       " u'minInvestAmount',\n",
       " u'fouthCategoryId',\n",
       " u'productId']"
      ]
     },
     "execution_count": 45,
     "metadata": {},
     "output_type": "execute_result"
    }
   ],
   "source": [
    "names = decodejson[0].keys()\n",
    "names"
   ]
  },
  {
   "cell_type": "code",
   "execution_count": 46,
   "metadata": {
    "collapsed": false
   },
   "outputs": [
    {
     "data": {
      "text/plain": [
       "[0.06, 4, 2, 100.0, 181, -1.0, 8, 100.0, 15, 7049]"
      ]
     },
     "execution_count": 46,
     "metadata": {},
     "output_type": "execute_result"
    }
   ],
   "source": [
    "decodejson[0].values()"
   ]
  },
  {
   "cell_type": "code",
   "execution_count": 47,
   "metadata": {
    "collapsed": false
   },
   "outputs": [
    {
     "name": "stdout",
     "output_type": "stream",
     "text": [
      "{u'productRatio': 0.06, u'secondCategoryId': 4, u'firstCategoryId': 2, u'perIncAmount': 100.0, u'productDueDays': 181, u'maxInvestAmount': -1.0, u'thirdCategoryId': 8, u'minInvestAmount': 100.0, u'fouthCategoryId': 15, u'productId': 7049}\n"
     ]
    }
   ],
   "source": [
    "print decodejson[0]"
   ]
  },
  {
   "cell_type": "code",
   "execution_count": 53,
   "metadata": {
    "collapsed": true
   },
   "outputs": [],
   "source": [
    "def json2DataFrame(jsonpath):\n",
    "    \n",
    "    jsondata = json.load(open(jsonpath,'r'))\n",
    "    product  = pd.DataFrame(decodejson)\n",
    "    return product"
   ]
  },
  {
   "cell_type": "code",
   "execution_count": 57,
   "metadata": {
    "collapsed": false
   },
   "outputs": [
    {
     "ename": "NameError",
     "evalue": "global name 'josn' is not defined",
     "output_type": "error",
     "traceback": [
      "\u001b[1;31m---------------------------------------------------------------------------\u001b[0m",
      "\u001b[1;31mNameError\u001b[0m                                 Traceback (most recent call last)",
      "\u001b[1;32m<ipython-input-57-17e724543b22>\u001b[0m in \u001b[0;36m<module>\u001b[1;34m()\u001b[0m\n\u001b[1;32m----> 1\u001b[1;33m \u001b[0mjson2DataFrame\u001b[0m\u001b[1;33m(\u001b[0m\u001b[0mproduct_path\u001b[0m\u001b[1;33m)\u001b[0m\u001b[1;33m\u001b[0m\u001b[0m\n\u001b[0m",
      "\u001b[1;32m<ipython-input-53-d3fb83abbd6c>\u001b[0m in \u001b[0;36mjson2DataFrame\u001b[1;34m(jsonpath)\u001b[0m\n\u001b[0;32m      1\u001b[0m \u001b[1;32mdef\u001b[0m \u001b[0mjson2DataFrame\u001b[0m\u001b[1;33m(\u001b[0m\u001b[0mjsonpath\u001b[0m\u001b[1;33m)\u001b[0m\u001b[1;33m:\u001b[0m\u001b[1;33m\u001b[0m\u001b[0m\n\u001b[0;32m      2\u001b[0m \u001b[1;33m\u001b[0m\u001b[0m\n\u001b[1;32m----> 3\u001b[1;33m     \u001b[0mjsondata\u001b[0m \u001b[1;33m=\u001b[0m \u001b[0mjosn\u001b[0m\u001b[1;33m.\u001b[0m\u001b[0mload\u001b[0m\u001b[1;33m(\u001b[0m\u001b[0mopen\u001b[0m\u001b[1;33m(\u001b[0m\u001b[0mjsonpath\u001b[0m\u001b[1;33m,\u001b[0m\u001b[1;34m'r'\u001b[0m\u001b[1;33m)\u001b[0m\u001b[1;33m)\u001b[0m\u001b[1;33m\u001b[0m\u001b[0m\n\u001b[0m\u001b[0;32m      4\u001b[0m     \u001b[0mproduct\u001b[0m  \u001b[1;33m=\u001b[0m \u001b[0mpd\u001b[0m\u001b[1;33m.\u001b[0m\u001b[0mDataFrame\u001b[0m\u001b[1;33m(\u001b[0m\u001b[0mdecodejson\u001b[0m\u001b[1;33m)\u001b[0m\u001b[1;33m\u001b[0m\u001b[0m\n\u001b[0;32m      5\u001b[0m     \u001b[1;32mreturn\u001b[0m \u001b[0mproduct\u001b[0m\u001b[1;33m\u001b[0m\u001b[0m\n",
      "\u001b[1;31mNameError\u001b[0m: global name 'josn' is not defined"
     ]
    }
   ],
   "source": [
    "json2DataFrame(product_path)"
   ]
  },
  {
   "cell_type": "code",
   "execution_count": 49,
   "metadata": {
    "collapsed": false
   },
   "outputs": [],
   "source": [
    "res.loc[0] = [0.06, 4, 2, 100.0, 181, -1.0, 8, 100.0, 15, 7049]"
   ]
  },
  {
   "cell_type": "code",
   "execution_count": 50,
   "metadata": {
    "collapsed": false
   },
   "outputs": [
    {
     "data": {
      "text/html": [
       "<div>\n",
       "<table border=\"1\" class=\"dataframe\">\n",
       "  <thead>\n",
       "    <tr style=\"text-align: right;\">\n",
       "      <th></th>\n",
       "      <th>productRatio</th>\n",
       "      <th>secondCategoryId</th>\n",
       "      <th>firstCategoryId</th>\n",
       "      <th>perIncAmount</th>\n",
       "      <th>productDueDays</th>\n",
       "      <th>maxInvestAmount</th>\n",
       "      <th>thirdCategoryId</th>\n",
       "      <th>minInvestAmount</th>\n",
       "      <th>fouthCategoryId</th>\n",
       "      <th>productId</th>\n",
       "    </tr>\n",
       "  </thead>\n",
       "  <tbody>\n",
       "    <tr>\n",
       "      <th>0</th>\n",
       "      <td>0.06</td>\n",
       "      <td>4</td>\n",
       "      <td>2</td>\n",
       "      <td>100</td>\n",
       "      <td>181</td>\n",
       "      <td>-1</td>\n",
       "      <td>8</td>\n",
       "      <td>100</td>\n",
       "      <td>15</td>\n",
       "      <td>7049</td>\n",
       "    </tr>\n",
       "  </tbody>\n",
       "</table>\n",
       "</div>"
      ],
      "text/plain": [
       "   productRatio  secondCategoryId  firstCategoryId  perIncAmount  \\\n",
       "0          0.06                 4                2           100   \n",
       "\n",
       "   productDueDays  maxInvestAmount  thirdCategoryId  minInvestAmount  \\\n",
       "0             181               -1                8              100   \n",
       "\n",
       "   fouthCategoryId  productId  \n",
       "0               15       7049  "
      ]
     },
     "execution_count": 50,
     "metadata": {},
     "output_type": "execute_result"
    }
   ],
   "source": [
    "res"
   ]
  },
  {
   "cell_type": "code",
   "execution_count": null,
   "metadata": {
    "collapsed": true
   },
   "outputs": [],
   "source": []
  }
 ],
 "metadata": {
  "kernelspec": {
   "display_name": "Python 2",
   "language": "python",
   "name": "python2"
  },
  "language_info": {
   "codemirror_mode": {
    "name": "ipython",
    "version": 2
   },
   "file_extension": ".py",
   "mimetype": "text/x-python",
   "name": "python",
   "nbconvert_exporter": "python",
   "pygments_lexer": "ipython2",
   "version": "2.7.9"
  }
 },
 "nbformat": 4,
 "nbformat_minor": 0
}
