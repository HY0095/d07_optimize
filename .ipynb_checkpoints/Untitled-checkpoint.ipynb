{
 "cells": [
  {
   "cell_type": "code",
   "execution_count": 43,
   "metadata": {
    "collapsed": false
   },
   "outputs": [],
   "source": [
    "import numpy as np\n",
    "from scipy.optimize import minimize\n",
    "import pandas as pd\n",
    "\n",
    "def dotMultiply(a,b):\n",
    "    \"\"\" dot multiply \n",
    "    example: A = [1, 2, 3], B = [2, 3, 4], then\n",
    "    return C = [1*2, 2*3, 3*4] = [2, 6, 12]\n",
    "    \"\"\"\n",
    "    result = []\n",
    "    for i in np.arange(len(a)):\n",
    "        result.append(a[i]*b[i])\n",
    "    return result\n",
    "\n",
    "def formula(a,b):\n",
    "    \"\"\" Formula Expression\n",
    "    example : A = ['x', 'y', 'z'], B = [1, 2, 3], then \n",
    "    return : C = 1*x + 2*y + 3*z\n",
    "    \"\"\"\n",
    "    exp = []\n",
    "    for i, v in enumerate(a):\n",
    "        exp.append(str(b[i])+\"*\"+v)\n",
    "        if i < len(a) -1 :\n",
    "            exp.append(\"+\")\n",
    "    return ' '.join(i for i in exp)\n",
    "\n",
    "class optimizeInvest(object):\n",
    "    \n",
    "    def __init__(self, product_loc):\n",
    "        \n",
    "        #self.needinvest = needinvest\n",
    "        product = pd.read_csv(product_loc)\n",
    "        product = product.sort_values(by = [\"rate\", \"duedays\", \"starting\"], ascending=[False, True, True])\n",
    "        product.index = [i for i in range(len(product))]\n",
    "        self.product = product\n",
    "        self.raw_investratio = [0 for i in range(len(product))]\n",
    "        #self.profits = dotMultiply(product.rate, product.starting)\n",
    "        #self.prod_cnt = len(product)\n",
    "        #print(product)\n",
    "        #print(self.profits)\n",
    "        \n",
    "    def invest(self, needinvest, deadline):\n",
    "        \n",
    "        \"\"\" Optimize Invest \"\"\"\n",
    "        tmp = 0\n",
    "        investratio = []\n",
    "        total = needinvest\n",
    "\n",
    "        tmp_product = self.product[self.product.duedays <= deadline]\n",
    "        new_product =  tmp_product[tmp_product.starting <= needinvest]\n",
    "        new_product.index = range(len(new_product))\n",
    "        prod_cnt    = len(new_product)  \n",
    "        #new_product = tmp_product.loc[range(tmp, prod_cnt),:]\n",
    "        #new_product.index = range(len(new_product))\n",
    "        product     = new_product\n",
    "        profits     = dotMultiply(product.rate, product.starting)\n",
    "        print(product)\n",
    "        #print(profits)\n",
    "                    \n",
    "        if prod_cnt == 0:\n",
    "            print(\"Warning Message: No product satisfy the Deadline !!!\")\n",
    "            raise SystemExit      \n",
    "      \n",
    "        while needinvest > 0 :\n",
    "            for i in range(len(new_product)):\n",
    "                if needinvest >= new_product.starting[i] :\n",
    "                    if needinvest <= new_product.outlanding[i] :\n",
    "                        investratio.append( 1.0*needinvest/new_product.starting[i] )\n",
    "                        needinvest = 0\n",
    "                    else :\n",
    "                        investratio.append( 1.0*new_product.outlanding[i]/new_product.starting[i] )\n",
    "                        needinvest = needinvest - new_product.outlanding[i]\n",
    "                        new_product = new_product.loc[range(i+1, len(new_product)), :]\n",
    "                        new_product.index = range(len(new_product))\n",
    "                    break\n",
    "                else :\n",
    "                    investratio.append(0)\n",
    "                    new_product = new_product.loc[range(i+1, len(new_product)), :]\n",
    "                    new_product.index = range(len(new_product))\n",
    "                    break\n",
    "            if len(new_product) == 0:\n",
    "                print(\"Warning Message: No more product for investing !!! \")\n",
    "                break\n",
    "        #result = np.dot(profits, investratio)\n",
    "        if max(investratio) == 0:\n",
    "            print(\"Warning: No Optimize Investment Satisfied !!!\")\n",
    "        else :\n",
    "            portfolio = dotMultiply(investratio, product.loc[[i for i in range(len(investratio))], :].starting)\n",
    "            profit = np.dot(investratio, profits[:len(investratio)])\n",
    "            if len(new_product) == 0:\n",
    "                print(\"The Residual Investment is \"+ str(total - sum(portfolio)))\n",
    "        expression = formula(product.product_id[:len(portfolio)], portfolio)\n",
    "        print(expression)\n",
    "        return [investratio, portfolio, round(profit, 2)]"
   ]
  },
  {
   "cell_type": "code",
   "execution_count": 44,
   "metadata": {
    "collapsed": true
   },
   "outputs": [],
   "source": [
    "product_loc = \"/home/dzn/Project/d07_optimize/product.csv\""
   ]
  },
  {
   "cell_type": "code",
   "execution_count": 45,
   "metadata": {
    "collapsed": false
   },
   "outputs": [],
   "source": [
    "optime = optimizeInvest(product_loc)"
   ]
  },
  {
   "cell_type": "code",
   "execution_count": 47,
   "metadata": {
    "collapsed": false
   },
   "outputs": [
    {
     "name": "stdout",
     "output_type": "stream",
     "text": [
      "  product_id   rate  duedays  starting  outlanding\n",
      "0      p_003  0.073      342     50000     2000000\n",
      "1      p_007  0.073      348     50000      130000\n",
      "2      p_005  0.066      348       100     2000000\n",
      "3      p_001  0.058      182       100     1500000\n",
      "2000000.0*p_003 + 100000.0*p_007\n"
     ]
    }
   ],
   "source": [
    "result = optime.invest(2100000, 350)"
   ]
  },
  {
   "cell_type": "code",
   "execution_count": 48,
   "metadata": {
    "collapsed": false
   },
   "outputs": [
    {
     "data": {
      "text/plain": [
       "[[40.0, 2.0], [2000000.0, 100000.0], 153300.0]"
      ]
     },
     "execution_count": 48,
     "metadata": {},
     "output_type": "execute_result"
    }
   ],
   "source": [
    "result"
   ]
  },
  {
   "cell_type": "code",
   "execution_count": 37,
   "metadata": {
    "collapsed": false
   },
   "outputs": [
    {
     "name": "stdout",
     "output_type": "stream",
     "text": [
      "Help on function formula in module __main__:\n",
      "\n",
      "formula(a, b)\n",
      "    Formula Expression\n",
      "    example : A = ['x', 'y', 'z'], B = [1, 2, 3], then \n",
      "    return : C = 1*x + 2*y + 3*z\n",
      "\n"
     ]
    }
   ],
   "source": [
    "help(formula)"
   ]
  },
  {
   "cell_type": "code",
   "execution_count": null,
   "metadata": {
    "collapsed": false
   },
   "outputs": [],
   "source": []
  }
 ],
 "metadata": {
  "kernelspec": {
   "display_name": "Python 2",
   "language": "python",
   "name": "python2"
  },
  "language_info": {
   "codemirror_mode": {
    "name": "ipython",
    "version": 2
   },
   "file_extension": ".py",
   "mimetype": "text/x-python",
   "name": "python",
   "nbconvert_exporter": "python",
   "pygments_lexer": "ipython2",
   "version": "2.7.9"
  }
 },
 "nbformat": 4,
 "nbformat_minor": 0
}
