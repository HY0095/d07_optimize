{
 "cells": [
  {
   "cell_type": "code",
   "execution_count": 1,
   "metadata": {
    "collapsed": true
   },
   "outputs": [],
   "source": [
    "#coding:-*-utf-8-*-\n",
    "import json\n",
    "import pandas as pd"
   ]
  },
  {
   "cell_type": "code",
   "execution_count": 2,
   "metadata": {
    "collapsed": true
   },
   "outputs": [],
   "source": [
    "product_loc = \"/home/dzn/Project/d07_optimize/product_json.txt\"\n",
    "coupon_loc  = '/home/dzn/Project/d07_optimize/coupon_json.txt'"
   ]
  },
  {
   "cell_type": "code",
   "execution_count": 3,
   "metadata": {
    "collapsed": false
   },
   "outputs": [
    {
     "data": {
      "text/plain": [
       "firstCategoryId           12\n",
       "forNewMemberFlag        True\n",
       "maxInvestAmount         8800\n",
       "minInvestAmount          100\n",
       "perIncAmount             100\n",
       "productDueDays            90\n",
       "productId               7125\n",
       "productRatio             0.1\n",
       "remainInvestAmount    750000\n",
       "secondCategoryId          13\n",
       "thirdCategoryId           31\n",
       "Name: 0, dtype: object"
      ]
     },
     "execution_count": 3,
     "metadata": {},
     "output_type": "execute_result"
    }
   ],
   "source": [
    "product = pd.DataFrame(json.load(open(product_loc,'r')))\n",
    "product = product.sort_values(by = [\"productRatio\", \"productDueDays\", \"minInvestAmount\", 'maxInvestAmount'], ascending=[False, True, True, False])\n",
    "product.index = range(len(product))\n",
    "product_0 = product.loc[0]\n",
    "product_0"
   ]
  },
  {
   "cell_type": "code",
   "execution_count": 5,
   "metadata": {
    "collapsed": false
   },
   "outputs": [
    {
     "data": {
      "text/html": [
       "<div>\n",
       "<table border=\"1\" class=\"dataframe\">\n",
       "  <thead>\n",
       "    <tr style=\"text-align: right;\">\n",
       "      <th></th>\n",
       "      <th>allProductSupportFlag</th>\n",
       "      <th>couponAmount</th>\n",
       "      <th>couponId</th>\n",
       "      <th>couponMinInvestAmount</th>\n",
       "      <th>supportCategoryVoList</th>\n",
       "      <th>rate</th>\n",
       "      <th>real_start</th>\n",
       "    </tr>\n",
       "  </thead>\n",
       "  <tbody>\n",
       "    <tr>\n",
       "      <th>0</th>\n",
       "      <td>False</td>\n",
       "      <td>300</td>\n",
       "      <td>db5a513a552b437e9f8f3a723a4561d3</td>\n",
       "      <td>5000</td>\n",
       "      <td>[{u'supportFlag': True, u'thirdCategoryId': 6}...</td>\n",
       "      <td>0.06383</td>\n",
       "      <td>4700</td>\n",
       "    </tr>\n",
       "  </tbody>\n",
       "</table>\n",
       "</div>"
      ],
      "text/plain": [
       "  allProductSupportFlag  couponAmount                          couponId  \\\n",
       "0                 False           300  db5a513a552b437e9f8f3a723a4561d3   \n",
       "\n",
       "   couponMinInvestAmount                              supportCategoryVoList  \\\n",
       "0                   5000  [{u'supportFlag': True, u'thirdCategoryId': 6}...   \n",
       "\n",
       "      rate  real_start  \n",
       "0  0.06383        4700  "
      ]
     },
     "execution_count": 5,
     "metadata": {},
     "output_type": "execute_result"
    }
   ],
   "source": [
    "coupon = pd.DataFrame(json.load(open(coupon_loc,'r')))\n",
    "coupon['rate'] = 1.0*coupon.couponAmount/(coupon.couponMinInvestAmount-coupon.couponAmount)\n",
    "coupon['real_start'] = coupon.couponMinInvestAmount-coupon.couponAmount\n",
    "coupon = coupon.sort_values(by=['rate', 'real_start'],  ascending = [False, True])\n",
    "coupon"
   ]
  },
  {
   "cell_type": "code",
   "execution_count": null,
   "metadata": {
    "collapsed": true
   },
   "outputs": [],
   "source": [
    "coupon.loc[:('')]"
   ]
  },
  {
   "cell_type": "code",
   "execution_count": 5,
   "metadata": {
    "collapsed": false
   },
   "outputs": [
    {
     "data": {
      "text/plain": [
       "Int64Index([0, 1], dtype='int64')"
      ]
     },
     "execution_count": 5,
     "metadata": {},
     "output_type": "execute_result"
    }
   ],
   "source": [
    "coupon[coupon.couponAmount < 100].index"
   ]
  },
  {
   "cell_type": "code",
   "execution_count": 6,
   "metadata": {
    "collapsed": false
   },
   "outputs": [
    {
     "data": {
      "text/html": [
       "<div>\n",
       "<table border=\"1\" class=\"dataframe\">\n",
       "  <thead>\n",
       "    <tr style=\"text-align: right;\">\n",
       "      <th></th>\n",
       "      <th>secondCategoryId</th>\n",
       "      <th>supportFlag</th>\n",
       "      <th>thirdCategoryId</th>\n",
       "    </tr>\n",
       "  </thead>\n",
       "  <tbody>\n",
       "    <tr>\n",
       "      <th>0</th>\n",
       "      <td>53</td>\n",
       "      <td>True</td>\n",
       "      <td>NaN</td>\n",
       "    </tr>\n",
       "    <tr>\n",
       "      <th>1</th>\n",
       "      <td>NaN</td>\n",
       "      <td>True</td>\n",
       "      <td>10</td>\n",
       "    </tr>\n",
       "    <tr>\n",
       "      <th>2</th>\n",
       "      <td>NaN</td>\n",
       "      <td>True</td>\n",
       "      <td>31</td>\n",
       "    </tr>\n",
       "    <tr>\n",
       "      <th>3</th>\n",
       "      <td>NaN</td>\n",
       "      <td>True</td>\n",
       "      <td>11</td>\n",
       "    </tr>\n",
       "    <tr>\n",
       "      <th>4</th>\n",
       "      <td>NaN</td>\n",
       "      <td>True</td>\n",
       "      <td>25</td>\n",
       "    </tr>\n",
       "    <tr>\n",
       "      <th>5</th>\n",
       "      <td>NaN</td>\n",
       "      <td>True</td>\n",
       "      <td>43</td>\n",
       "    </tr>\n",
       "    <tr>\n",
       "      <th>6</th>\n",
       "      <td>NaN</td>\n",
       "      <td>True</td>\n",
       "      <td>37</td>\n",
       "    </tr>\n",
       "    <tr>\n",
       "      <th>7</th>\n",
       "      <td>NaN</td>\n",
       "      <td>True</td>\n",
       "      <td>16</td>\n",
       "    </tr>\n",
       "    <tr>\n",
       "      <th>8</th>\n",
       "      <td>NaN</td>\n",
       "      <td>True</td>\n",
       "      <td>32</td>\n",
       "    </tr>\n",
       "    <tr>\n",
       "      <th>9</th>\n",
       "      <td>NaN</td>\n",
       "      <td>True</td>\n",
       "      <td>17</td>\n",
       "    </tr>\n",
       "    <tr>\n",
       "      <th>10</th>\n",
       "      <td>NaN</td>\n",
       "      <td>True</td>\n",
       "      <td>26</td>\n",
       "    </tr>\n",
       "    <tr>\n",
       "      <th>11</th>\n",
       "      <td>NaN</td>\n",
       "      <td>True</td>\n",
       "      <td>44</td>\n",
       "    </tr>\n",
       "    <tr>\n",
       "      <th>12</th>\n",
       "      <td>NaN</td>\n",
       "      <td>True</td>\n",
       "      <td>38</td>\n",
       "    </tr>\n",
       "    <tr>\n",
       "      <th>13</th>\n",
       "      <td>NaN</td>\n",
       "      <td>True</td>\n",
       "      <td>18</td>\n",
       "    </tr>\n",
       "    <tr>\n",
       "      <th>14</th>\n",
       "      <td>NaN</td>\n",
       "      <td>True</td>\n",
       "      <td>33</td>\n",
       "    </tr>\n",
       "    <tr>\n",
       "      <th>15</th>\n",
       "      <td>NaN</td>\n",
       "      <td>True</td>\n",
       "      <td>19</td>\n",
       "    </tr>\n",
       "  </tbody>\n",
       "</table>\n",
       "</div>"
      ],
      "text/plain": [
       "    secondCategoryId supportFlag  thirdCategoryId\n",
       "0                 53        True              NaN\n",
       "1                NaN        True               10\n",
       "2                NaN        True               31\n",
       "3                NaN        True               11\n",
       "4                NaN        True               25\n",
       "5                NaN        True               43\n",
       "6                NaN        True               37\n",
       "7                NaN        True               16\n",
       "8                NaN        True               32\n",
       "9                NaN        True               17\n",
       "10               NaN        True               26\n",
       "11               NaN        True               44\n",
       "12               NaN        True               38\n",
       "13               NaN        True               18\n",
       "14               NaN        True               33\n",
       "15               NaN        True               19"
      ]
     },
     "execution_count": 6,
     "metadata": {},
     "output_type": "execute_result"
    }
   ],
   "source": [
    "pd.DataFrame(coupon['supportCategoryVoList'][0])"
   ]
  },
  {
   "cell_type": "code",
   "execution_count": 7,
   "metadata": {
    "collapsed": false
   },
   "outputs": [],
   "source": [
    "def productMatchCoupon(product_0, coupon):\n",
    "    category = ['firstCategoryId', 'secondCategoryId', 'thirdCategoryId', 'fouthCategoryId']\n",
    "    selectcoupon = pd.DataFrame()\n",
    "    dropcoupon = pd.DataFrame()\n",
    "    for name in list(pd.DataFrame(product_0 ).index):\n",
    "        if name in category :\n",
    "            for i in range(len(coupon['supportCategoryVoList'])):\n",
    "                item = pd.DataFrame(coupon['supportCategoryVoList'][i])\n",
    "                column = list(item.columns)\n",
    "                if name in column :\n",
    "                    underselectcoupon = item[item[name] == product_0[name]]\n",
    "                    if len(underselectcoupon) > 0 :\n",
    "                        aaa = list(underselectcoupon['supportFlag'])\n",
    "                        if aaa[0] :\n",
    "                            selectcoupon = selectcoupon.append(coupon.loc[i])\n",
    "                        else :\n",
    "                            dropcoupon = dropcoupon.append(coupon.loc[i])\n",
    "    \n",
    "    print selectcoupon\n",
    "    if len(selectcoupon) > 0:\n",
    "        del selectcoupon['supportCategoryVoList']\n",
    "    \n",
    "    if len(dropcoupon) > 0:\n",
    "        print dropcoupon\n",
    "        del dropcoupon['supportCategoryVoList']\n",
    "    \n",
    "    if len(dropcoupon.index) > 0:\n",
    "        for j in dropcoupon.index :\n",
    "            selectcoupon = selectcoupon.drop(j)\n",
    "    \n",
    "    if len(selectcoupon) > 0 :\n",
    "        selectcoupon = selectcoupon.drop_duplicates()\n",
    "    \n",
    "    return selectcoupon"
   ]
  },
  {
   "cell_type": "code",
   "execution_count": 8,
   "metadata": {
    "collapsed": false
   },
   "outputs": [
    {
     "name": "stdout",
     "output_type": "stream",
     "text": [
      "   allProductSupportFlag  couponAmount                          couponId  \\\n",
      "0                      0            20  4c72434f6c934801b80a019ae964558c   \n",
      "1                      0            50  00109adc3cf14c4b9ab72ab4e9fd33a3   \n",
      "2                      0           100  61c15ee5da5d4387be7425d3b1495b15   \n",
      "\n",
      "   couponMinInvestAmount      rate  real_start  \\\n",
      "0                  10000  0.002004        9980   \n",
      "1                  25000  0.002004       24950   \n",
      "2                  35000  0.002865       34900   \n",
      "\n",
      "                               supportCategoryVoList  \n",
      "0  [{u'supportFlag': True, u'secondCategoryId': 5...  \n",
      "1  [{u'supportFlag': True, u'thirdCategoryId': 10...  \n",
      "2  [{u'supportFlag': True, u'thirdCategoryId': 10...  \n"
     ]
    },
    {
     "data": {
      "text/html": [
       "<div>\n",
       "<table border=\"1\" class=\"dataframe\">\n",
       "  <thead>\n",
       "    <tr style=\"text-align: right;\">\n",
       "      <th></th>\n",
       "      <th>allProductSupportFlag</th>\n",
       "      <th>couponAmount</th>\n",
       "      <th>couponId</th>\n",
       "      <th>couponMinInvestAmount</th>\n",
       "      <th>rate</th>\n",
       "      <th>real_start</th>\n",
       "    </tr>\n",
       "  </thead>\n",
       "  <tbody>\n",
       "    <tr>\n",
       "      <th>0</th>\n",
       "      <td>0</td>\n",
       "      <td>20</td>\n",
       "      <td>4c72434f6c934801b80a019ae964558c</td>\n",
       "      <td>10000</td>\n",
       "      <td>0.002004</td>\n",
       "      <td>9980</td>\n",
       "    </tr>\n",
       "    <tr>\n",
       "      <th>1</th>\n",
       "      <td>0</td>\n",
       "      <td>50</td>\n",
       "      <td>00109adc3cf14c4b9ab72ab4e9fd33a3</td>\n",
       "      <td>25000</td>\n",
       "      <td>0.002004</td>\n",
       "      <td>24950</td>\n",
       "    </tr>\n",
       "    <tr>\n",
       "      <th>2</th>\n",
       "      <td>0</td>\n",
       "      <td>100</td>\n",
       "      <td>61c15ee5da5d4387be7425d3b1495b15</td>\n",
       "      <td>35000</td>\n",
       "      <td>0.002865</td>\n",
       "      <td>34900</td>\n",
       "    </tr>\n",
       "  </tbody>\n",
       "</table>\n",
       "</div>"
      ],
      "text/plain": [
       "   allProductSupportFlag  couponAmount                          couponId  \\\n",
       "0                      0            20  4c72434f6c934801b80a019ae964558c   \n",
       "1                      0            50  00109adc3cf14c4b9ab72ab4e9fd33a3   \n",
       "2                      0           100  61c15ee5da5d4387be7425d3b1495b15   \n",
       "\n",
       "   couponMinInvestAmount      rate  real_start  \n",
       "0                  10000  0.002004        9980  \n",
       "1                  25000  0.002004       24950  \n",
       "2                  35000  0.002865       34900  "
      ]
     },
     "execution_count": 8,
     "metadata": {},
     "output_type": "execute_result"
    }
   ],
   "source": [
    "productMatchCoupon(product_0, coupon)"
   ]
  },
  {
   "cell_type": "code",
   "execution_count": 9,
   "metadata": {
    "collapsed": false
   },
   "outputs": [
    {
     "data": {
      "text/html": [
       "<div>\n",
       "<table border=\"1\" class=\"dataframe\">\n",
       "  <thead>\n",
       "    <tr style=\"text-align: right;\">\n",
       "      <th></th>\n",
       "      <th>secondCategoryId</th>\n",
       "      <th>supportFlag</th>\n",
       "      <th>thirdCategoryId</th>\n",
       "    </tr>\n",
       "  </thead>\n",
       "  <tbody>\n",
       "    <tr>\n",
       "      <th>0</th>\n",
       "      <td>53</td>\n",
       "      <td>True</td>\n",
       "      <td>NaN</td>\n",
       "    </tr>\n",
       "    <tr>\n",
       "      <th>1</th>\n",
       "      <td>NaN</td>\n",
       "      <td>True</td>\n",
       "      <td>10</td>\n",
       "    </tr>\n",
       "    <tr>\n",
       "      <th>2</th>\n",
       "      <td>NaN</td>\n",
       "      <td>True</td>\n",
       "      <td>31</td>\n",
       "    </tr>\n",
       "    <tr>\n",
       "      <th>3</th>\n",
       "      <td>NaN</td>\n",
       "      <td>True</td>\n",
       "      <td>11</td>\n",
       "    </tr>\n",
       "    <tr>\n",
       "      <th>4</th>\n",
       "      <td>NaN</td>\n",
       "      <td>True</td>\n",
       "      <td>25</td>\n",
       "    </tr>\n",
       "    <tr>\n",
       "      <th>5</th>\n",
       "      <td>NaN</td>\n",
       "      <td>True</td>\n",
       "      <td>43</td>\n",
       "    </tr>\n",
       "    <tr>\n",
       "      <th>6</th>\n",
       "      <td>NaN</td>\n",
       "      <td>True</td>\n",
       "      <td>37</td>\n",
       "    </tr>\n",
       "    <tr>\n",
       "      <th>7</th>\n",
       "      <td>NaN</td>\n",
       "      <td>True</td>\n",
       "      <td>16</td>\n",
       "    </tr>\n",
       "    <tr>\n",
       "      <th>8</th>\n",
       "      <td>NaN</td>\n",
       "      <td>True</td>\n",
       "      <td>32</td>\n",
       "    </tr>\n",
       "    <tr>\n",
       "      <th>9</th>\n",
       "      <td>NaN</td>\n",
       "      <td>True</td>\n",
       "      <td>17</td>\n",
       "    </tr>\n",
       "    <tr>\n",
       "      <th>10</th>\n",
       "      <td>NaN</td>\n",
       "      <td>True</td>\n",
       "      <td>26</td>\n",
       "    </tr>\n",
       "    <tr>\n",
       "      <th>11</th>\n",
       "      <td>NaN</td>\n",
       "      <td>True</td>\n",
       "      <td>44</td>\n",
       "    </tr>\n",
       "    <tr>\n",
       "      <th>12</th>\n",
       "      <td>NaN</td>\n",
       "      <td>True</td>\n",
       "      <td>38</td>\n",
       "    </tr>\n",
       "    <tr>\n",
       "      <th>13</th>\n",
       "      <td>NaN</td>\n",
       "      <td>True</td>\n",
       "      <td>18</td>\n",
       "    </tr>\n",
       "    <tr>\n",
       "      <th>14</th>\n",
       "      <td>NaN</td>\n",
       "      <td>True</td>\n",
       "      <td>33</td>\n",
       "    </tr>\n",
       "    <tr>\n",
       "      <th>15</th>\n",
       "      <td>NaN</td>\n",
       "      <td>True</td>\n",
       "      <td>19</td>\n",
       "    </tr>\n",
       "  </tbody>\n",
       "</table>\n",
       "</div>"
      ],
      "text/plain": [
       "    secondCategoryId supportFlag  thirdCategoryId\n",
       "0                 53        True              NaN\n",
       "1                NaN        True               10\n",
       "2                NaN        True               31\n",
       "3                NaN        True               11\n",
       "4                NaN        True               25\n",
       "5                NaN        True               43\n",
       "6                NaN        True               37\n",
       "7                NaN        True               16\n",
       "8                NaN        True               32\n",
       "9                NaN        True               17\n",
       "10               NaN        True               26\n",
       "11               NaN        True               44\n",
       "12               NaN        True               38\n",
       "13               NaN        True               18\n",
       "14               NaN        True               33\n",
       "15               NaN        True               19"
      ]
     },
     "execution_count": 9,
     "metadata": {},
     "output_type": "execute_result"
    }
   ],
   "source": [
    "pd.DataFrame(coupon['supportCategoryVoList'][0])"
   ]
  },
  {
   "cell_type": "code",
   "execution_count": 10,
   "metadata": {
    "collapsed": false
   },
   "outputs": [
    {
     "data": {
      "text/plain": [
       "allProductSupportFlag                                                False\n",
       "couponAmount                                                            20\n",
       "couponId                                  4c72434f6c934801b80a019ae964558c\n",
       "couponMinInvestAmount                                                10000\n",
       "supportCategoryVoList    [{u'supportFlag': True, u'secondCategoryId': 5...\n",
       "rate                                                            0.00200401\n",
       "real_start                                                            9980\n",
       "Name: 0, dtype: object"
      ]
     },
     "execution_count": 10,
     "metadata": {},
     "output_type": "execute_result"
    }
   ],
   "source": [
    "coupon.loc[0]"
   ]
  },
  {
   "cell_type": "code",
   "execution_count": 11,
   "metadata": {
    "collapsed": false
   },
   "outputs": [
    {
     "data": {
      "text/plain": [
       "allProductSupportFlag                                                False\n",
       "couponAmount                                                           100\n",
       "couponId                                  61c15ee5da5d4387be7425d3b1495b15\n",
       "couponMinInvestAmount                                                35000\n",
       "supportCategoryVoList    [{u'supportFlag': True, u'thirdCategoryId': 10...\n",
       "rate                                                            0.00286533\n",
       "real_start                                                           34900\n",
       "Name: 2, dtype: object"
      ]
     },
     "execution_count": 11,
     "metadata": {},
     "output_type": "execute_result"
    }
   ],
   "source": [
    "coupon_0 = coupon.iloc[0]\n",
    "#coupon_0 = pd.DataFrame(coupon_0)\n",
    "coupon_0"
   ]
  },
  {
   "cell_type": "code",
   "execution_count": 12,
   "metadata": {
    "collapsed": false
   },
   "outputs": [
    {
     "data": {
      "text/html": [
       "<div>\n",
       "<table border=\"1\" class=\"dataframe\">\n",
       "  <thead>\n",
       "    <tr style=\"text-align: right;\">\n",
       "      <th></th>\n",
       "      <th>supportFlag</th>\n",
       "      <th>thirdCategoryId</th>\n",
       "    </tr>\n",
       "  </thead>\n",
       "  <tbody>\n",
       "    <tr>\n",
       "      <th>0</th>\n",
       "      <td>True</td>\n",
       "      <td>10</td>\n",
       "    </tr>\n",
       "    <tr>\n",
       "      <th>1</th>\n",
       "      <td>True</td>\n",
       "      <td>31</td>\n",
       "    </tr>\n",
       "    <tr>\n",
       "      <th>2</th>\n",
       "      <td>True</td>\n",
       "      <td>11</td>\n",
       "    </tr>\n",
       "    <tr>\n",
       "      <th>3</th>\n",
       "      <td>True</td>\n",
       "      <td>37</td>\n",
       "    </tr>\n",
       "    <tr>\n",
       "      <th>4</th>\n",
       "      <td>True</td>\n",
       "      <td>16</td>\n",
       "    </tr>\n",
       "    <tr>\n",
       "      <th>5</th>\n",
       "      <td>True</td>\n",
       "      <td>32</td>\n",
       "    </tr>\n",
       "    <tr>\n",
       "      <th>6</th>\n",
       "      <td>True</td>\n",
       "      <td>17</td>\n",
       "    </tr>\n",
       "    <tr>\n",
       "      <th>7</th>\n",
       "      <td>True</td>\n",
       "      <td>26</td>\n",
       "    </tr>\n",
       "    <tr>\n",
       "      <th>8</th>\n",
       "      <td>True</td>\n",
       "      <td>44</td>\n",
       "    </tr>\n",
       "    <tr>\n",
       "      <th>9</th>\n",
       "      <td>True</td>\n",
       "      <td>38</td>\n",
       "    </tr>\n",
       "    <tr>\n",
       "      <th>10</th>\n",
       "      <td>True</td>\n",
       "      <td>18</td>\n",
       "    </tr>\n",
       "    <tr>\n",
       "      <th>11</th>\n",
       "      <td>True</td>\n",
       "      <td>33</td>\n",
       "    </tr>\n",
       "  </tbody>\n",
       "</table>\n",
       "</div>"
      ],
      "text/plain": [
       "   supportFlag  thirdCategoryId\n",
       "0         True               10\n",
       "1         True               31\n",
       "2         True               11\n",
       "3         True               37\n",
       "4         True               16\n",
       "5         True               32\n",
       "6         True               17\n",
       "7         True               26\n",
       "8         True               44\n",
       "9         True               38\n",
       "10        True               18\n",
       "11        True               33"
      ]
     },
     "execution_count": 12,
     "metadata": {},
     "output_type": "execute_result"
    }
   ],
   "source": [
    "aaa = pd.DataFrame(coupon_0['supportCategoryVoList'])\n",
    "aa = aaa[aaa.supportFlag]\n",
    "aa"
   ]
  },
  {
   "cell_type": "code",
   "execution_count": 13,
   "metadata": {
    "collapsed": true
   },
   "outputs": [],
   "source": [
    "# 为每张券构建产品包\n",
    "def couponMatchPorduct(coupon_0, product):\n",
    "    selectedproduct = pd.DataFrame()\n",
    "    dropproduct     = pd.DataFrame()\n",
    "    category = ['firstCategoryId', 'secondCategoryId', 'thirdCategoryId', 'fouthCategoryId']\n",
    "    for i in range(len(coupon_0['supportCategoryVoList'])):\n",
    "        item = coupon_0['supportCategoryVoList'][i]\n",
    "        if item[\"supportFlag\"] :\n",
    "            print 'supportFlag = True'\n",
    "            for name in item.keys() :\n",
    "                if name in category :\n",
    "                    selectedproduct = selectedproduct.append(product[product[name] == item[name]])\n",
    "        else :\n",
    "            print 'supportFlag = False'\n",
    "            for name in item.keys() :\n",
    "                if name in category :\n",
    "                    dropproduct = dropproduct.append(product[product[name] == item[name]])\n",
    "\n",
    "    if len(dropproduct) > 0:\n",
    "        droplist = list(dropproduct.index)\n",
    "        for i in droplist:\n",
    "            selectedproduct = selectedproduct.drop(i)\n",
    "            \n",
    "    return selectedproduct.drop_duplicates()\n",
    "    "
   ]
  },
  {
   "cell_type": "code",
   "execution_count": 12,
   "metadata": {
    "collapsed": false
   },
   "outputs": [
    {
     "name": "stdout",
     "output_type": "stream",
     "text": [
      "supportFlag = True\n",
      "supportFlag = True\n",
      "supportFlag = True\n",
      "supportFlag = True\n",
      "supportFlag = True\n",
      "supportFlag = True\n",
      "supportFlag = True\n",
      "supportFlag = True\n",
      "supportFlag = True\n",
      "supportFlag = True\n",
      "supportFlag = True\n",
      "supportFlag = True\n",
      "supportFlag = True\n",
      "supportFlag = True\n",
      "supportFlag = True\n",
      "supportFlag = True\n"
     ]
    },
    {
     "data": {
      "text/html": [
       "<div>\n",
       "<table border=\"1\" class=\"dataframe\">\n",
       "  <thead>\n",
       "    <tr style=\"text-align: right;\">\n",
       "      <th></th>\n",
       "      <th>firstCategoryId</th>\n",
       "      <th>maxInvestAmount</th>\n",
       "      <th>minInvestAmount</th>\n",
       "      <th>perIncAmount</th>\n",
       "      <th>productDueDays</th>\n",
       "      <th>productId</th>\n",
       "      <th>productRatio</th>\n",
       "      <th>remainInvestAmount</th>\n",
       "      <th>secondCategoryId</th>\n",
       "      <th>thirdCategoryId</th>\n",
       "    </tr>\n",
       "  </thead>\n",
       "  <tbody>\n",
       "    <tr>\n",
       "      <th>0</th>\n",
       "      <td>2</td>\n",
       "      <td>-1</td>\n",
       "      <td>100</td>\n",
       "      <td>100</td>\n",
       "      <td>357</td>\n",
       "      <td>6944</td>\n",
       "      <td>0.068</td>\n",
       "      <td>6400</td>\n",
       "      <td>5</td>\n",
       "      <td>10</td>\n",
       "    </tr>\n",
       "    <tr>\n",
       "      <th>8</th>\n",
       "      <td>2</td>\n",
       "      <td>-1</td>\n",
       "      <td>1000</td>\n",
       "      <td>100</td>\n",
       "      <td>357</td>\n",
       "      <td>7115</td>\n",
       "      <td>0.068</td>\n",
       "      <td>1423100</td>\n",
       "      <td>5</td>\n",
       "      <td>31</td>\n",
       "    </tr>\n",
       "    <tr>\n",
       "      <th>9</th>\n",
       "      <td>2</td>\n",
       "      <td>-1</td>\n",
       "      <td>10000</td>\n",
       "      <td>10000</td>\n",
       "      <td>356</td>\n",
       "      <td>7128</td>\n",
       "      <td>0.070</td>\n",
       "      <td>1590000</td>\n",
       "      <td>5</td>\n",
       "      <td>11</td>\n",
       "    </tr>\n",
       "    <tr>\n",
       "      <th>3</th>\n",
       "      <td>2</td>\n",
       "      <td>-1</td>\n",
       "      <td>50000</td>\n",
       "      <td>50000</td>\n",
       "      <td>356</td>\n",
       "      <td>7033</td>\n",
       "      <td>0.072</td>\n",
       "      <td>1100000</td>\n",
       "      <td>5</td>\n",
       "      <td>25</td>\n",
       "    </tr>\n",
       "    <tr>\n",
       "      <th>14</th>\n",
       "      <td>2</td>\n",
       "      <td>-1</td>\n",
       "      <td>50000</td>\n",
       "      <td>100</td>\n",
       "      <td>357</td>\n",
       "      <td>7135</td>\n",
       "      <td>0.072</td>\n",
       "      <td>2000000</td>\n",
       "      <td>5</td>\n",
       "      <td>25</td>\n",
       "    </tr>\n",
       "    <tr>\n",
       "      <th>4</th>\n",
       "      <td>2</td>\n",
       "      <td>-1</td>\n",
       "      <td>50000</td>\n",
       "      <td>100</td>\n",
       "      <td>357</td>\n",
       "      <td>7078</td>\n",
       "      <td>0.075</td>\n",
       "      <td>1000000</td>\n",
       "      <td>5</td>\n",
       "      <td>43</td>\n",
       "    </tr>\n",
       "  </tbody>\n",
       "</table>\n",
       "</div>"
      ],
      "text/plain": [
       "    firstCategoryId  maxInvestAmount  minInvestAmount  perIncAmount  \\\n",
       "0                 2               -1              100           100   \n",
       "8                 2               -1             1000           100   \n",
       "9                 2               -1            10000         10000   \n",
       "3                 2               -1            50000         50000   \n",
       "14                2               -1            50000           100   \n",
       "4                 2               -1            50000           100   \n",
       "\n",
       "    productDueDays  productId  productRatio  remainInvestAmount  \\\n",
       "0              357       6944         0.068                6400   \n",
       "8              357       7115         0.068             1423100   \n",
       "9              356       7128         0.070             1590000   \n",
       "3              356       7033         0.072             1100000   \n",
       "14             357       7135         0.072             2000000   \n",
       "4              357       7078         0.075             1000000   \n",
       "\n",
       "    secondCategoryId  thirdCategoryId  \n",
       "0                  5               10  \n",
       "8                  5               31  \n",
       "9                  5               11  \n",
       "3                  5               25  \n",
       "14                 5               25  \n",
       "4                  5               43  "
      ]
     },
     "execution_count": 12,
     "metadata": {},
     "output_type": "execute_result"
    }
   ],
   "source": [
    "couponMatchPorduct(coupon_0, product)"
   ]
  },
  {
   "cell_type": "code",
   "execution_count": 16,
   "metadata": {
    "collapsed": false
   },
   "outputs": [
    {
     "data": {
      "text/html": [
       "<div>\n",
       "<table border=\"1\" class=\"dataframe\">\n",
       "  <thead>\n",
       "    <tr style=\"text-align: right;\">\n",
       "      <th></th>\n",
       "      <th>A</th>\n",
       "      <th>B</th>\n",
       "      <th>C</th>\n",
       "      <th>D</th>\n",
       "    </tr>\n",
       "  </thead>\n",
       "  <tbody>\n",
       "  </tbody>\n",
       "</table>\n",
       "</div>"
      ],
      "text/plain": [
       "Empty DataFrame\n",
       "Columns: [A, B, C, D]\n",
       "Index: []"
      ]
     },
     "execution_count": 16,
     "metadata": {},
     "output_type": "execute_result"
    }
   ],
   "source": [
    "selectedproduct = pd.DataFrame(columns = [list(\"ABCD\")])\n",
    "selectedproduct"
   ]
  },
  {
   "cell_type": "code",
   "execution_count": 24,
   "metadata": {
    "collapsed": false
   },
   "outputs": [
    {
     "data": {
      "text/html": [
       "<div>\n",
       "<table border=\"1\" class=\"dataframe\">\n",
       "  <thead>\n",
       "    <tr style=\"text-align: right;\">\n",
       "      <th></th>\n",
       "      <th>A</th>\n",
       "      <th>B</th>\n",
       "      <th>C</th>\n",
       "      <th>D</th>\n",
       "    </tr>\n",
       "  </thead>\n",
       "  <tbody>\n",
       "    <tr>\n",
       "      <th>0</th>\n",
       "      <td>1</td>\n",
       "      <td>2</td>\n",
       "      <td>3</td>\n",
       "      <td>4</td>\n",
       "    </tr>\n",
       "  </tbody>\n",
       "</table>\n",
       "</div>"
      ],
      "text/plain": [
       "   A  B  C  D\n",
       "0  1  2  3  4"
      ]
     },
     "execution_count": 24,
     "metadata": {},
     "output_type": "execute_result"
    }
   ],
   "source": [
    "pro = pd.DataFrame({'A' :[ 1], 'B':[2], 'C':[3], 'D' :[4]})\n",
    "pro"
   ]
  },
  {
   "cell_type": "code",
   "execution_count": 31,
   "metadata": {
    "collapsed": false
   },
   "outputs": [
    {
     "data": {
      "text/html": [
       "<div>\n",
       "<table border=\"1\" class=\"dataframe\">\n",
       "  <thead>\n",
       "    <tr style=\"text-align: right;\">\n",
       "      <th></th>\n",
       "      <th>A</th>\n",
       "      <th>B</th>\n",
       "      <th>C</th>\n",
       "      <th>D</th>\n",
       "    </tr>\n",
       "  </thead>\n",
       "  <tbody>\n",
       "    <tr>\n",
       "      <th>0</th>\n",
       "      <td>1</td>\n",
       "      <td>2</td>\n",
       "      <td>3</td>\n",
       "      <td>4</td>\n",
       "    </tr>\n",
       "    <tr>\n",
       "      <th>0</th>\n",
       "      <td>1</td>\n",
       "      <td>2</td>\n",
       "      <td>3</td>\n",
       "      <td>4</td>\n",
       "    </tr>\n",
       "    <tr>\n",
       "      <th>0</th>\n",
       "      <td>1</td>\n",
       "      <td>2</td>\n",
       "      <td>3</td>\n",
       "      <td>4</td>\n",
       "    </tr>\n",
       "  </tbody>\n",
       "</table>\n",
       "</div>"
      ],
      "text/plain": [
       "   A  B  C  D\n",
       "0  1  2  3  4\n",
       "0  1  2  3  4\n",
       "0  1  2  3  4"
      ]
     },
     "execution_count": 31,
     "metadata": {},
     "output_type": "execute_result"
    }
   ],
   "source": [
    "selectedproduct = selectedproduct.append(pro)\n",
    "selectedproduct"
   ]
  },
  {
   "cell_type": "code",
   "execution_count": 29,
   "metadata": {
    "collapsed": false
   },
   "outputs": [
    {
     "ename": "NameError",
     "evalue": "name 'couponMatchPorduct' is not defined",
     "output_type": "error",
     "traceback": [
      "\u001b[1;31m---------------------------------------------------------------------------\u001b[0m",
      "\u001b[1;31mNameError\u001b[0m                                 Traceback (most recent call last)",
      "\u001b[1;32m<ipython-input-29-05304a0721ad>\u001b[0m in \u001b[0;36m<module>\u001b[1;34m()\u001b[0m\n\u001b[0;32m      1\u001b[0m \u001b[1;32mif\u001b[0m \u001b[0mlen\u001b[0m\u001b[1;33m(\u001b[0m\u001b[0mcoupon\u001b[0m\u001b[1;33m)\u001b[0m \u001b[1;33m>\u001b[0m \u001b[1;36m0\u001b[0m\u001b[1;33m:\u001b[0m\u001b[1;33m\u001b[0m\u001b[0m\n\u001b[1;32m----> 2\u001b[1;33m     \u001b[0mcouponMatchPorduct\u001b[0m\u001b[1;33m(\u001b[0m\u001b[0mcoupon_0\u001b[0m\u001b[1;33m,\u001b[0m \u001b[0mproduct\u001b[0m\u001b[1;33m)\u001b[0m\u001b[1;33m\u001b[0m\u001b[0m\n\u001b[0m\u001b[0;32m      3\u001b[0m     \u001b[1;32mpass\u001b[0m\u001b[1;33m\u001b[0m\u001b[0m\n\u001b[0;32m      4\u001b[0m \u001b[1;32melse\u001b[0m \u001b[1;33m:\u001b[0m\u001b[1;33m\u001b[0m\u001b[0m\n\u001b[0;32m      5\u001b[0m     \u001b[1;32mpass\u001b[0m\u001b[1;33m\u001b[0m\u001b[0m\n",
      "\u001b[1;31mNameError\u001b[0m: name 'couponMatchPorduct' is not defined"
     ]
    }
   ],
   "source": [
    "if len(coupon) > 0:\n",
    "    couponMatchPorduct(coupon_0, product)\n",
    "    pass\n",
    "else :\n",
    "    pass\n"
   ]
  },
  {
   "cell_type": "code",
   "execution_count": null,
   "metadata": {
    "collapsed": true
   },
   "outputs": [],
   "source": []
  }
 ],
 "metadata": {
  "kernelspec": {
   "display_name": "Python 2",
   "language": "python",
   "name": "python2"
  },
  "language_info": {
   "codemirror_mode": {
    "name": "ipython",
    "version": 2
   },
   "file_extension": ".py",
   "mimetype": "text/x-python",
   "name": "python",
   "nbconvert_exporter": "python",
   "pygments_lexer": "ipython2",
   "version": "2.7.9"
  }
 },
 "nbformat": 4,
 "nbformat_minor": 0
}
