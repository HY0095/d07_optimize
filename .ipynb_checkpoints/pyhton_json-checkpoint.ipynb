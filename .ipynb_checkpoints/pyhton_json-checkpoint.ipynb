{
 "cells": [
  {
   "cell_type": "code",
   "execution_count": 1,
   "metadata": {
    "collapsed": true
   },
   "outputs": [],
   "source": [
    "#coding:-*-utf-8-*-\n",
    "import json\n",
    "import pandas as pd"
   ]
  },
  {
   "cell_type": "code",
   "execution_count": 2,
   "metadata": {
    "collapsed": true
   },
   "outputs": [],
   "source": [
    "#product_json = [{\"firstCategoryId\":2,\"fouthCategoryId\":15,\"maxInvestAmount\":-1.00,\"minInvestAmount\":100.00,\"perIncAmount\":100.00,\"productDueDays\":181,\"productId\":7049,\"productRatio\":0.060000,\"secondCategoryId\":4,\"thirdCategoryId\":8},{\"firstCategoryId\":12,\"maxInvestAmount\":3000.00,\"minInvestAmount\":100.00,\"perIncAmount\":100.00,\"productDueDays\":90,\"productId\":7051,\"productRatio\":0.100000,\"secondCategoryId\":13}]"
   ]
  },
  {
   "cell_type": "code",
   "execution_count": 3,
   "metadata": {
    "collapsed": true
   },
   "outputs": [],
   "source": [
    "product_path = 'product_json.txt'\n",
    "coupon_path  = 'coupon_json.txt'"
   ]
  },
  {
   "cell_type": "code",
   "execution_count": 4,
   "metadata": {
    "collapsed": false
   },
   "outputs": [
    {
     "name": "stdout",
     "output_type": "stream",
     "text": [
      "[{u'productRatio': 0.06, u'secondCategoryId': 4, u'firstCategoryId': 2, u'perIncAmount': 100.0, u'productDueDays': 181, u'maxInvestAmount': -1.0, u'thirdCategoryId': 8, u'minInvestAmount': 100.0, u'fouthCategoryId': 15, u'productId': 7049}, {u'productRatio': 0.1, u'secondCategoryId': 13, u'firstCategoryId': 12, u'perIncAmount': 100.0, u'productDueDays': 90, u'maxInvestAmount': 3000.0, u'minInvestAmount': 100.0, u'productId': 7051}]\n"
     ]
    }
   ],
   "source": [
    "product_json= json.load(open(product_path,'r'))\n",
    "print product_json"
   ]
  },
  {
   "cell_type": "code",
   "execution_count": 5,
   "metadata": {
    "collapsed": false
   },
   "outputs": [],
   "source": [
    "encodejson = json.dumps(product_json , sort_keys= True)"
   ]
  },
  {
   "cell_type": "code",
   "execution_count": 6,
   "metadata": {
    "collapsed": false
   },
   "outputs": [],
   "source": [
    "decodejson = json.loads(encodejson)"
   ]
  },
  {
   "cell_type": "code",
   "execution_count": 7,
   "metadata": {
    "collapsed": false
   },
   "outputs": [
    {
     "name": "stdout",
     "output_type": "stream",
     "text": [
      "[{\"firstCategoryId\": 2, \"fouthCategoryId\": 15, \"maxInvestAmount\": -1.0, \"minInvestAmount\": 100.0, \"perIncAmount\": 100.0, \"productDueDays\": 181, \"productId\": 7049, \"productRatio\": 0.06, \"secondCategoryId\": 4, \"thirdCategoryId\": 8}, {\"firstCategoryId\": 12, \"maxInvestAmount\": 3000.0, \"minInvestAmount\": 100.0, \"perIncAmount\": 100.0, \"productDueDays\": 90, \"productId\": 7051, \"productRatio\": 0.1, \"secondCategoryId\": 13}]\n"
     ]
    }
   ],
   "source": [
    "print encodejson"
   ]
  },
  {
   "cell_type": "code",
   "execution_count": 8,
   "metadata": {
    "collapsed": false
   },
   "outputs": [
    {
     "data": {
      "text/plain": [
       "[u'productRatio',\n",
       " u'secondCategoryId',\n",
       " u'firstCategoryId',\n",
       " u'perIncAmount',\n",
       " u'productDueDays',\n",
       " u'maxInvestAmount',\n",
       " u'thirdCategoryId',\n",
       " u'minInvestAmount',\n",
       " u'fouthCategoryId',\n",
       " u'productId']"
      ]
     },
     "execution_count": 8,
     "metadata": {},
     "output_type": "execute_result"
    }
   ],
   "source": [
    "names = decodejson[0].keys()\n",
    "names"
   ]
  },
  {
   "cell_type": "code",
   "execution_count": 9,
   "metadata": {
    "collapsed": false
   },
   "outputs": [
    {
     "data": {
      "text/plain": [
       "[0.06, 4, 2, 100.0, 181, -1.0, 8, 100.0, 15, 7049]"
      ]
     },
     "execution_count": 9,
     "metadata": {},
     "output_type": "execute_result"
    }
   ],
   "source": [
    "decodejson[0].values()"
   ]
  },
  {
   "cell_type": "code",
   "execution_count": 10,
   "metadata": {
    "collapsed": false
   },
   "outputs": [
    {
     "name": "stdout",
     "output_type": "stream",
     "text": [
      "{u'productRatio': 0.06, u'secondCategoryId': 4, u'firstCategoryId': 2, u'perIncAmount': 100.0, u'productDueDays': 181, u'maxInvestAmount': -1.0, u'thirdCategoryId': 8, u'minInvestAmount': 100.0, u'fouthCategoryId': 15, u'productId': 7049}\n"
     ]
    }
   ],
   "source": [
    "print decodejson[0]"
   ]
  },
  {
   "cell_type": "code",
   "execution_count": 11,
   "metadata": {
    "collapsed": true
   },
   "outputs": [],
   "source": [
    "def json2DataFrame(jsonpath):\n",
    "    \n",
    "    jsondata = json.load(open(jsonpath,'r'))\n",
    "    product  = pd.DataFrame(jsondata)\n",
    "    return product"
   ]
  },
  {
   "cell_type": "code",
   "execution_count": 12,
   "metadata": {
    "collapsed": false
   },
   "outputs": [
    {
     "data": {
      "text/html": [
       "<div>\n",
       "<table border=\"1\" class=\"dataframe\">\n",
       "  <thead>\n",
       "    <tr style=\"text-align: right;\">\n",
       "      <th></th>\n",
       "      <th>firstCategoryId</th>\n",
       "      <th>fouthCategoryId</th>\n",
       "      <th>maxInvestAmount</th>\n",
       "      <th>minInvestAmount</th>\n",
       "      <th>perIncAmount</th>\n",
       "      <th>productDueDays</th>\n",
       "      <th>productId</th>\n",
       "      <th>productRatio</th>\n",
       "      <th>secondCategoryId</th>\n",
       "      <th>thirdCategoryId</th>\n",
       "    </tr>\n",
       "  </thead>\n",
       "  <tbody>\n",
       "    <tr>\n",
       "      <th>0</th>\n",
       "      <td>2</td>\n",
       "      <td>15</td>\n",
       "      <td>-1</td>\n",
       "      <td>100</td>\n",
       "      <td>100</td>\n",
       "      <td>181</td>\n",
       "      <td>7049</td>\n",
       "      <td>0.06</td>\n",
       "      <td>4</td>\n",
       "      <td>8</td>\n",
       "    </tr>\n",
       "    <tr>\n",
       "      <th>1</th>\n",
       "      <td>12</td>\n",
       "      <td>NaN</td>\n",
       "      <td>3000</td>\n",
       "      <td>100</td>\n",
       "      <td>100</td>\n",
       "      <td>90</td>\n",
       "      <td>7051</td>\n",
       "      <td>0.10</td>\n",
       "      <td>13</td>\n",
       "      <td>NaN</td>\n",
       "    </tr>\n",
       "  </tbody>\n",
       "</table>\n",
       "</div>"
      ],
      "text/plain": [
       "   firstCategoryId  fouthCategoryId  maxInvestAmount  minInvestAmount  \\\n",
       "0                2               15               -1              100   \n",
       "1               12              NaN             3000              100   \n",
       "\n",
       "   perIncAmount  productDueDays  productId  productRatio  secondCategoryId  \\\n",
       "0           100             181       7049          0.06                 4   \n",
       "1           100              90       7051          0.10                13   \n",
       "\n",
       "   thirdCategoryId  \n",
       "0                8  \n",
       "1              NaN  "
      ]
     },
     "execution_count": 12,
     "metadata": {},
     "output_type": "execute_result"
    }
   ],
   "source": [
    "json2DataFrame(product_path)"
   ]
  },
  {
   "cell_type": "code",
   "execution_count": 13,
   "metadata": {
    "collapsed": false
   },
   "outputs": [
    {
     "data": {
      "text/html": [
       "<div>\n",
       "<table border=\"1\" class=\"dataframe\">\n",
       "  <thead>\n",
       "    <tr style=\"text-align: right;\">\n",
       "      <th></th>\n",
       "      <th>firstCategoryId</th>\n",
       "      <th>fouthCategoryId</th>\n",
       "      <th>maxInvestAmount</th>\n",
       "      <th>minInvestAmount</th>\n",
       "      <th>perIncAmount</th>\n",
       "      <th>productDueDays</th>\n",
       "      <th>productId</th>\n",
       "      <th>productRatio</th>\n",
       "      <th>secondCategoryId</th>\n",
       "      <th>thirdCategoryId</th>\n",
       "    </tr>\n",
       "  </thead>\n",
       "  <tbody>\n",
       "    <tr>\n",
       "      <th>0</th>\n",
       "      <td>2</td>\n",
       "      <td>15</td>\n",
       "      <td>-1</td>\n",
       "      <td>100</td>\n",
       "      <td>100</td>\n",
       "      <td>181</td>\n",
       "      <td>7049</td>\n",
       "      <td>0.06</td>\n",
       "      <td>4</td>\n",
       "      <td>8</td>\n",
       "    </tr>\n",
       "    <tr>\n",
       "      <th>1</th>\n",
       "      <td>12</td>\n",
       "      <td>NaN</td>\n",
       "      <td>3000</td>\n",
       "      <td>100</td>\n",
       "      <td>100</td>\n",
       "      <td>90</td>\n",
       "      <td>7051</td>\n",
       "      <td>0.10</td>\n",
       "      <td>13</td>\n",
       "      <td>NaN</td>\n",
       "    </tr>\n",
       "  </tbody>\n",
       "</table>\n",
       "</div>"
      ],
      "text/plain": [
       "   firstCategoryId  fouthCategoryId  maxInvestAmount  minInvestAmount  \\\n",
       "0                2               15               -1              100   \n",
       "1               12              NaN             3000              100   \n",
       "\n",
       "   perIncAmount  productDueDays  productId  productRatio  secondCategoryId  \\\n",
       "0           100             181       7049          0.06                 4   \n",
       "1           100              90       7051          0.10                13   \n",
       "\n",
       "   thirdCategoryId  \n",
       "0                8  \n",
       "1              NaN  "
      ]
     },
     "execution_count": 13,
     "metadata": {},
     "output_type": "execute_result"
    }
   ],
   "source": [
    "json2DataFrame(coupon_path)"
   ]
  },
  {
   "cell_type": "code",
   "execution_count": 60,
   "metadata": {
    "collapsed": false,
    "scrolled": true
   },
   "outputs": [
    {
     "data": {
      "text/html": [
       "<div>\n",
       "<table border=\"1\" class=\"dataframe\">\n",
       "  <thead>\n",
       "    <tr style=\"text-align: right;\">\n",
       "      <th></th>\n",
       "      <th>firstCategoryId</th>\n",
       "      <th>fouthCategoryId</th>\n",
       "      <th>maxInvestAmount</th>\n",
       "      <th>minInvestAmount</th>\n",
       "      <th>perIncAmount</th>\n",
       "      <th>productDueDays</th>\n",
       "      <th>productId</th>\n",
       "      <th>productRatio</th>\n",
       "      <th>secondCategoryId</th>\n",
       "      <th>thirdCategoryId</th>\n",
       "    </tr>\n",
       "  </thead>\n",
       "  <tbody>\n",
       "    <tr>\n",
       "      <th>0</th>\n",
       "      <td>2</td>\n",
       "      <td>15</td>\n",
       "      <td>-1</td>\n",
       "      <td>100</td>\n",
       "      <td>100</td>\n",
       "      <td>181</td>\n",
       "      <td>7049</td>\n",
       "      <td>0.06</td>\n",
       "      <td>4</td>\n",
       "      <td>8</td>\n",
       "    </tr>\n",
       "    <tr>\n",
       "      <th>1</th>\n",
       "      <td>12</td>\n",
       "      <td>NaN</td>\n",
       "      <td>3000</td>\n",
       "      <td>100</td>\n",
       "      <td>100</td>\n",
       "      <td>90</td>\n",
       "      <td>7051</td>\n",
       "      <td>0.10</td>\n",
       "      <td>13</td>\n",
       "      <td>NaN</td>\n",
       "    </tr>\n",
       "  </tbody>\n",
       "</table>\n",
       "</div>"
      ],
      "text/plain": [
       "   firstCategoryId  fouthCategoryId  maxInvestAmount  minInvestAmount  \\\n",
       "0                2               15               -1              100   \n",
       "1               12              NaN             3000              100   \n",
       "\n",
       "   perIncAmount  productDueDays  productId  productRatio  secondCategoryId  \\\n",
       "0           100             181       7049          0.06                 4   \n",
       "1           100              90       7051          0.10                13   \n",
       "\n",
       "   thirdCategoryId  \n",
       "0                8  \n",
       "1              NaN  "
      ]
     },
     "execution_count": 60,
     "metadata": {},
     "output_type": "execute_result"
    }
   ],
   "source": [
    "res"
   ]
  },
  {
   "cell_type": "code",
   "execution_count": 81,
   "metadata": {
    "collapsed": false
   },
   "outputs": [
    {
     "data": {
      "text/html": [
       "<div>\n",
       "<table border=\"1\" class=\"dataframe\">\n",
       "  <thead>\n",
       "    <tr style=\"text-align: right;\">\n",
       "      <th></th>\n",
       "      <th>0</th>\n",
       "    </tr>\n",
       "  </thead>\n",
       "  <tbody>\n",
       "    <tr>\n",
       "      <th>firstCategoryId</th>\n",
       "      <td>2.00</td>\n",
       "    </tr>\n",
       "    <tr>\n",
       "      <th>fouthCategoryId</th>\n",
       "      <td>15.00</td>\n",
       "    </tr>\n",
       "    <tr>\n",
       "      <th>maxInvestAmount</th>\n",
       "      <td>-1.00</td>\n",
       "    </tr>\n",
       "    <tr>\n",
       "      <th>minInvestAmount</th>\n",
       "      <td>100.00</td>\n",
       "    </tr>\n",
       "    <tr>\n",
       "      <th>perIncAmount</th>\n",
       "      <td>100.00</td>\n",
       "    </tr>\n",
       "    <tr>\n",
       "      <th>productDueDays</th>\n",
       "      <td>181.00</td>\n",
       "    </tr>\n",
       "    <tr>\n",
       "      <th>productId</th>\n",
       "      <td>7049.00</td>\n",
       "    </tr>\n",
       "    <tr>\n",
       "      <th>productRatio</th>\n",
       "      <td>0.06</td>\n",
       "    </tr>\n",
       "    <tr>\n",
       "      <th>secondCategoryId</th>\n",
       "      <td>4.00</td>\n",
       "    </tr>\n",
       "    <tr>\n",
       "      <th>thirdCategoryId</th>\n",
       "      <td>8.00</td>\n",
       "    </tr>\n",
       "  </tbody>\n",
       "</table>\n",
       "</div>"
      ],
      "text/plain": [
       "                        0\n",
       "firstCategoryId      2.00\n",
       "fouthCategoryId     15.00\n",
       "maxInvestAmount     -1.00\n",
       "minInvestAmount    100.00\n",
       "perIncAmount       100.00\n",
       "productDueDays     181.00\n",
       "productId         7049.00\n",
       "productRatio         0.06\n",
       "secondCategoryId     4.00\n",
       "thirdCategoryId      8.00"
      ]
     },
     "execution_count": 81,
     "metadata": {},
     "output_type": "execute_result"
    }
   ],
   "source": [
    "pd.DataFrame(res.iloc[0])"
   ]
  },
  {
   "cell_type": "code",
   "execution_count": 82,
   "metadata": {
    "collapsed": false
   },
   "outputs": [
    {
     "data": {
      "text/plain": [
       "'{\"0\":{\"firstCategoryId\":2.0,\"fouthCategoryId\":15.0,\"maxInvestAmount\":-1.0,\"minInvestAmount\":100.0,\"perIncAmount\":100.0,\"productDueDays\":181.0,\"productId\":7049.0,\"productRatio\":0.06,\"secondCategoryId\":4.0,\"thirdCategoryId\":8.0}}'"
      ]
     },
     "execution_count": 82,
     "metadata": {},
     "output_type": "execute_result"
    }
   ],
   "source": [
    "aa = pd.DataFrame.to_json(pd.DataFrame(res.iloc[0]))\n",
    "aa"
   ]
  },
  {
   "cell_type": "code",
   "execution_count": 83,
   "metadata": {
    "collapsed": false
   },
   "outputs": [
    {
     "data": {
      "text/plain": [
       "'{\"1\":{\"firstCategoryId\":12.0,\"fouthCategoryId\":null,\"maxInvestAmount\":3000.0,\"minInvestAmount\":100.0,\"perIncAmount\":100.0,\"productDueDays\":90.0,\"productId\":7051.0,\"productRatio\":0.1,\"secondCategoryId\":13.0,\"thirdCategoryId\":null}}'"
      ]
     },
     "execution_count": 83,
     "metadata": {},
     "output_type": "execute_result"
    }
   ],
   "source": [
    "bb = pd.DataFrame.to_json(pd.DataFrame(res.iloc[1]))\n",
    "bb"
   ]
  },
  {
   "cell_type": "code",
   "execution_count": 87,
   "metadata": {
    "collapsed": false
   },
   "outputs": [
    {
     "data": {
      "text/plain": [
       "'{\"0\":{\"firstCategoryId\":2.0,\"fouthCategoryId\":15.0,\"maxInvestAmount\":-1.0,\"minInvestAmount\":100.0,\"perIncAmount\":100.0,\"productDueDays\":181.0,\"productId\":7049.0,\"productRatio\":0.06,\"secondCategoryId\":4.0,\"thirdCategoryId\":8.0}'"
      ]
     },
     "execution_count": 87,
     "metadata": {},
     "output_type": "execute_result"
    }
   ],
   "source": [
    "aa[:-1]"
   ]
  },
  {
   "cell_type": "code",
   "execution_count": 88,
   "metadata": {
    "collapsed": false
   },
   "outputs": [
    {
     "data": {
      "text/plain": [
       "'\"1\":{\"firstCategoryId\":12.0,\"fouthCategoryId\":null,\"maxInvestAmount\":3000.0,\"minInvestAmount\":100.0,\"perIncAmount\":100.0,\"productDueDays\":90.0,\"productId\":7051.0,\"productRatio\":0.1,\"secondCategoryId\":13.0,\"thirdCategoryId\":null}}'"
      ]
     },
     "execution_count": 88,
     "metadata": {},
     "output_type": "execute_result"
    }
   ],
   "source": [
    "bb[1:]"
   ]
  },
  {
   "cell_type": "code",
   "execution_count": 89,
   "metadata": {
    "collapsed": false
   },
   "outputs": [
    {
     "data": {
      "text/plain": [
       "'{\"0\":{\"firstCategoryId\":2.0,\"fouthCategoryId\":15.0,\"maxInvestAmount\":-1.0,\"minInvestAmount\":100.0,\"perIncAmount\":100.0,\"productDueDays\":181.0,\"productId\":7049.0,\"productRatio\":0.06,\"secondCategoryId\":4.0,\"thirdCategoryId\":8.0},\"1\":{\"firstCategoryId\":12.0,\"fouthCategoryId\":null,\"maxInvestAmount\":3000.0,\"minInvestAmount\":100.0,\"perIncAmount\":100.0,\"productDueDays\":90.0,\"productId\":7051.0,\"productRatio\":0.1,\"secondCategoryId\":13.0,\"thirdCategoryId\":null}}'"
      ]
     },
     "execution_count": 89,
     "metadata": {},
     "output_type": "execute_result"
    }
   ],
   "source": [
    "aa[:-1] + ',' + bb[1:]"
   ]
  },
  {
   "cell_type": "code",
   "execution_count": 1,
   "metadata": {
    "collapsed": false
   },
   "outputs": [
    {
     "ename": "NameError",
     "evalue": "name 'res' is not defined",
     "output_type": "error",
     "traceback": [
      "\u001b[1;31m---------------------------------------------------------------------------\u001b[0m",
      "\u001b[1;31mNameError\u001b[0m                                 Traceback (most recent call last)",
      "\u001b[1;32m<ipython-input-1-41a0db25bac4>\u001b[0m in \u001b[0;36m<module>\u001b[1;34m()\u001b[0m\n\u001b[1;32m----> 1\u001b[1;33m \u001b[0mres\u001b[0m\u001b[1;33m\u001b[0m\u001b[0m\n\u001b[0m",
      "\u001b[1;31mNameError\u001b[0m: name 'res' is not defined"
     ]
    }
   ],
   "source": [
    "res"
   ]
  },
  {
   "cell_type": "code",
   "execution_count": null,
   "metadata": {
    "collapsed": true
   },
   "outputs": [],
   "source": []
  }
 ],
 "metadata": {
  "kernelspec": {
   "display_name": "Python 2",
   "language": "python",
   "name": "python2"
  },
  "language_info": {
   "codemirror_mode": {
    "name": "ipython",
    "version": 2
   },
   "file_extension": ".py",
   "mimetype": "text/x-python",
   "name": "python",
   "nbconvert_exporter": "python",
   "pygments_lexer": "ipython2",
   "version": "2.7.9"
  }
 },
 "nbformat": 4,
 "nbformat_minor": 0
}
