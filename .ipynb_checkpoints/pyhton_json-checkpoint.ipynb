{
 "cells": [
  {
   "cell_type": "code",
   "execution_count": 1,
   "metadata": {
    "collapsed": true
   },
   "outputs": [],
   "source": [
    "#coding:-*-utf-8-*-\n",
    "import json\n",
    "import pandas as pd"
   ]
  },
  {
   "cell_type": "code",
   "execution_count": 2,
   "metadata": {
    "collapsed": true
   },
   "outputs": [],
   "source": [
    "#product_json = [{\"firstCategoryId\":2,\"fouthCategoryId\":15,\"maxInvestAmount\":-1.00,\"minInvestAmount\":100.00,\"perIncAmount\":100.00,\"productDueDays\":181,\"productId\":7049,\"productRatio\":0.060000,\"secondCategoryId\":4,\"thirdCategoryId\":8},{\"firstCategoryId\":12,\"maxInvestAmount\":3000.00,\"minInvestAmount\":100.00,\"perIncAmount\":100.00,\"productDueDays\":90,\"productId\":7051,\"productRatio\":0.100000,\"secondCategoryId\":13}]"
   ]
  },
  {
   "cell_type": "code",
   "execution_count": 3,
   "metadata": {
    "collapsed": true
   },
   "outputs": [],
   "source": [
    "product_path = 'product_json.txt'\n",
    "coupon_path  = 'coupon_json.txt'"
   ]
  },
  {
   "cell_type": "code",
   "execution_count": null,
   "metadata": {
    "collapsed": true
   },
   "outputs": [],
   "source": [
    "aaa = open(coupon_path,'r')\n",
    "type(aaa)"
   ]
  },
  {
   "cell_type": "code",
   "execution_count": 6,
   "metadata": {
    "collapsed": false
   },
   "outputs": [
    {
     "data": {
      "text/html": [
       "<div>\n",
       "<table border=\"1\" class=\"dataframe\">\n",
       "  <thead>\n",
       "    <tr style=\"text-align: right;\">\n",
       "      <th></th>\n",
       "      <th>allProductSupportFlag</th>\n",
       "      <th>couponAmount</th>\n",
       "      <th>couponId</th>\n",
       "      <th>couponMinInvestAmount</th>\n",
       "      <th>supportCategoryVoList</th>\n",
       "    </tr>\n",
       "  </thead>\n",
       "  <tbody>\n",
       "    <tr>\n",
       "      <th>0</th>\n",
       "      <td>False</td>\n",
       "      <td>20</td>\n",
       "      <td>4c72434f6c934801b80a019ae964558c</td>\n",
       "      <td>10000</td>\n",
       "      <td>[{u'supportFlag': True, u'secondCategoryId': 5...</td>\n",
       "    </tr>\n",
       "    <tr>\n",
       "      <th>1</th>\n",
       "      <td>False</td>\n",
       "      <td>50</td>\n",
       "      <td>00109adc3cf14c4b9ab72ab4e9fd33a3</td>\n",
       "      <td>25000</td>\n",
       "      <td>[{u'supportFlag': True, u'thirdCategoryId': 10...</td>\n",
       "    </tr>\n",
       "    <tr>\n",
       "      <th>2</th>\n",
       "      <td>False</td>\n",
       "      <td>100</td>\n",
       "      <td>61c15ee5da5d4387be7425d3b1495b15</td>\n",
       "      <td>35000</td>\n",
       "      <td>[{u'supportFlag': True, u'thirdCategoryId': 10...</td>\n",
       "    </tr>\n",
       "  </tbody>\n",
       "</table>\n",
       "</div>"
      ],
      "text/plain": [
       "  allProductSupportFlag  couponAmount                          couponId  \\\n",
       "0                 False            20  4c72434f6c934801b80a019ae964558c   \n",
       "1                 False            50  00109adc3cf14c4b9ab72ab4e9fd33a3   \n",
       "2                 False           100  61c15ee5da5d4387be7425d3b1495b15   \n",
       "\n",
       "   couponMinInvestAmount                              supportCategoryVoList  \n",
       "0                  10000  [{u'supportFlag': True, u'secondCategoryId': 5...  \n",
       "1                  25000  [{u'supportFlag': True, u'thirdCategoryId': 10...  \n",
       "2                  35000  [{u'supportFlag': True, u'thirdCategoryId': 10...  "
      ]
     },
     "execution_count": 6,
     "metadata": {},
     "output_type": "execute_result"
    }
   ],
   "source": [
    "coupon_json= json.load(open(coupon_path,'r'))\n",
    "pd.DataFrame(coupon_json)"
   ]
  },
  {
   "cell_type": "code",
   "execution_count": 5,
   "metadata": {
    "collapsed": false
   },
   "outputs": [],
   "source": [
    "encodejson = json.dumps(coupon_json, sort_keys= True)"
   ]
  },
  {
   "cell_type": "code",
   "execution_count": 6,
   "metadata": {
    "collapsed": false
   },
   "outputs": [],
   "source": [
    "decodejson = json.loads(encodejson)"
   ]
  },
  {
   "cell_type": "code",
   "execution_count": 7,
   "metadata": {
    "collapsed": false
   },
   "outputs": [
    {
     "data": {
      "text/plain": [
       "[{u'firstCategoryId': 1,\n",
       "  u'fouthCategoryId': 4,\n",
       "  u'productId': 5,\n",
       "  u'secondCategoryId': 2,\n",
       "  u'supportFlag': True,\n",
       "  u'thirdCategoryId': 3},\n",
       " {u'supportFlag': True, u'thirdCategoryId': 8}]"
      ]
     },
     "execution_count": 7,
     "metadata": {},
     "output_type": "execute_result"
    }
   ],
   "source": [
    "decodejson[0]['supportCategoryVoList']"
   ]
  },
  {
   "cell_type": "code",
   "execution_count": 30,
   "metadata": {
    "collapsed": false
   },
   "outputs": [
    {
     "data": {
      "text/html": [
       "<div>\n",
       "<table border=\"1\" class=\"dataframe\">\n",
       "  <thead>\n",
       "    <tr style=\"text-align: right;\">\n",
       "      <th></th>\n",
       "      <th>firstCategoryId</th>\n",
       "      <th>fouthCategoryId</th>\n",
       "      <th>productId</th>\n",
       "      <th>secondCategoryId</th>\n",
       "      <th>supportFlag</th>\n",
       "      <th>thirdCategoryId</th>\n",
       "    </tr>\n",
       "  </thead>\n",
       "  <tbody>\n",
       "    <tr>\n",
       "      <th>0</th>\n",
       "      <td>1</td>\n",
       "      <td>4</td>\n",
       "      <td>5</td>\n",
       "      <td>2</td>\n",
       "      <td>True</td>\n",
       "      <td>3</td>\n",
       "    </tr>\n",
       "    <tr>\n",
       "      <th>1</th>\n",
       "      <td>NaN</td>\n",
       "      <td>NaN</td>\n",
       "      <td>NaN</td>\n",
       "      <td>NaN</td>\n",
       "      <td>True</td>\n",
       "      <td>8</td>\n",
       "    </tr>\n",
       "  </tbody>\n",
       "</table>\n",
       "</div>"
      ],
      "text/plain": [
       "   firstCategoryId  fouthCategoryId  productId  secondCategoryId supportFlag  \\\n",
       "0                1                4          5                 2        True   \n",
       "1              NaN              NaN        NaN               NaN        True   \n",
       "\n",
       "   thirdCategoryId  \n",
       "0                3  \n",
       "1                8  "
      ]
     },
     "execution_count": 30,
     "metadata": {},
     "output_type": "execute_result"
    }
   ],
   "source": [
    "pd.DataFrame(decodejson[0]['supportCategoryVoList'])"
   ]
  },
  {
   "cell_type": "code",
   "execution_count": 8,
   "metadata": {
    "collapsed": false
   },
   "outputs": [
    {
     "data": {
      "text/plain": [
       "[u'productRatio',\n",
       " u'secondCategoryId',\n",
       " u'firstCategoryId',\n",
       " u'perIncAmount',\n",
       " u'productDueDays',\n",
       " u'maxInvestAmount',\n",
       " u'thirdCategoryId',\n",
       " u'minInvestAmount',\n",
       " u'fouthCategoryId',\n",
       " u'productId']"
      ]
     },
     "execution_count": 8,
     "metadata": {},
     "output_type": "execute_result"
    }
   ],
   "source": [
    "names = decodejson[0].keys()\n",
    "names"
   ]
  },
  {
   "cell_type": "code",
   "execution_count": 9,
   "metadata": {
    "collapsed": false
   },
   "outputs": [
    {
     "data": {
      "text/plain": [
       "[0.06, 4, 2, 100.0, 181, -1.0, 8, 100.0, 15, 7049]"
      ]
     },
     "execution_count": 9,
     "metadata": {},
     "output_type": "execute_result"
    }
   ],
   "source": [
    "decodejson[0].values()"
   ]
  },
  {
   "cell_type": "code",
   "execution_count": 10,
   "metadata": {
    "collapsed": false
   },
   "outputs": [
    {
     "name": "stdout",
     "output_type": "stream",
     "text": [
      "{u'productRatio': 0.06, u'secondCategoryId': 4, u'firstCategoryId': 2, u'perIncAmount': 100.0, u'productDueDays': 181, u'maxInvestAmount': -1.0, u'thirdCategoryId': 8, u'minInvestAmount': 100.0, u'fouthCategoryId': 15, u'productId': 7049}\n"
     ]
    }
   ],
   "source": [
    "print decodejson[0]"
   ]
  },
  {
   "cell_type": "code",
   "execution_count": 14,
   "metadata": {
    "collapsed": true
   },
   "outputs": [],
   "source": [
    "def json2DataFrame(jsonpath):\n",
    "    \n",
    "    jsondata = json.load(open(jsonpath,'r'))\n",
    "    product  = pd.DataFrame(jsondata)\n",
    "    return product"
   ]
  },
  {
   "cell_type": "code",
   "execution_count": 15,
   "metadata": {
    "collapsed": false
   },
   "outputs": [
    {
     "data": {
      "text/html": [
       "<div>\n",
       "<table border=\"1\" class=\"dataframe\">\n",
       "  <thead>\n",
       "    <tr style=\"text-align: right;\">\n",
       "      <th></th>\n",
       "      <th>firstCategoryId</th>\n",
       "      <th>fouthCategoryId</th>\n",
       "      <th>maxInvestAmount</th>\n",
       "      <th>minInvestAmount</th>\n",
       "      <th>perIncAmount</th>\n",
       "      <th>productDueDays</th>\n",
       "      <th>productId</th>\n",
       "      <th>productRatio</th>\n",
       "      <th>secondCategoryId</th>\n",
       "      <th>thirdCategoryId</th>\n",
       "    </tr>\n",
       "  </thead>\n",
       "  <tbody>\n",
       "    <tr>\n",
       "      <th>0</th>\n",
       "      <td>2</td>\n",
       "      <td>15</td>\n",
       "      <td>-1</td>\n",
       "      <td>100</td>\n",
       "      <td>100</td>\n",
       "      <td>181</td>\n",
       "      <td>7049</td>\n",
       "      <td>0.06</td>\n",
       "      <td>4</td>\n",
       "      <td>8</td>\n",
       "    </tr>\n",
       "    <tr>\n",
       "      <th>1</th>\n",
       "      <td>12</td>\n",
       "      <td>NaN</td>\n",
       "      <td>3000</td>\n",
       "      <td>100</td>\n",
       "      <td>100</td>\n",
       "      <td>90</td>\n",
       "      <td>7051</td>\n",
       "      <td>0.10</td>\n",
       "      <td>13</td>\n",
       "      <td>NaN</td>\n",
       "    </tr>\n",
       "  </tbody>\n",
       "</table>\n",
       "</div>"
      ],
      "text/plain": [
       "   firstCategoryId  fouthCategoryId  maxInvestAmount  minInvestAmount  \\\n",
       "0                2               15               -1              100   \n",
       "1               12              NaN             3000              100   \n",
       "\n",
       "   perIncAmount  productDueDays  productId  productRatio  secondCategoryId  \\\n",
       "0           100             181       7049          0.06                 4   \n",
       "1           100              90       7051          0.10                13   \n",
       "\n",
       "   thirdCategoryId  \n",
       "0                8  \n",
       "1              NaN  "
      ]
     },
     "execution_count": 15,
     "metadata": {},
     "output_type": "execute_result"
    }
   ],
   "source": [
    "json2DataFrame(product_path)"
   ]
  },
  {
   "cell_type": "code",
   "execution_count": 16,
   "metadata": {
    "collapsed": false
   },
   "outputs": [
    {
     "data": {
      "text/html": [
       "<div>\n",
       "<table border=\"1\" class=\"dataframe\">\n",
       "  <thead>\n",
       "    <tr style=\"text-align: right;\">\n",
       "      <th></th>\n",
       "      <th>allProductSupportFlag</th>\n",
       "      <th>couponAmount</th>\n",
       "      <th>couponId</th>\n",
       "      <th>couponMinInvestAmount</th>\n",
       "      <th>supportCategoryVoList</th>\n",
       "    </tr>\n",
       "  </thead>\n",
       "  <tbody>\n",
       "    <tr>\n",
       "      <th>0</th>\n",
       "      <td>False</td>\n",
       "      <td>300</td>\n",
       "      <td>6c5f8c08bff146a3952d3df28e4bf4f3</td>\n",
       "      <td>10000</td>\n",
       "      <td>[{u'secondCategoryId': 2, u'firstCategoryId': ...</td>\n",
       "    </tr>\n",
       "    <tr>\n",
       "      <th>1</th>\n",
       "      <td>False</td>\n",
       "      <td>800</td>\n",
       "      <td>06b23ae0187d44d8b02eb693200243ac</td>\n",
       "      <td>50000</td>\n",
       "      <td>[{u'secondCategoryId': 21, u'firstCategoryId':...</td>\n",
       "    </tr>\n",
       "  </tbody>\n",
       "</table>\n",
       "</div>"
      ],
      "text/plain": [
       "  allProductSupportFlag  couponAmount                          couponId  \\\n",
       "0                 False           300  6c5f8c08bff146a3952d3df28e4bf4f3   \n",
       "1                 False           800  06b23ae0187d44d8b02eb693200243ac   \n",
       "\n",
       "   couponMinInvestAmount                              supportCategoryVoList  \n",
       "0                  10000  [{u'secondCategoryId': 2, u'firstCategoryId': ...  \n",
       "1                  50000  [{u'secondCategoryId': 21, u'firstCategoryId':...  "
      ]
     },
     "execution_count": 16,
     "metadata": {},
     "output_type": "execute_result"
    }
   ],
   "source": [
    "json2DataFrame(coupon_path)"
   ]
  },
  {
   "cell_type": "code",
   "execution_count": 8,
   "metadata": {
    "collapsed": false,
    "scrolled": true
   },
   "outputs": [
    {
     "ename": "NameError",
     "evalue": "name 'res' is not defined",
     "output_type": "error",
     "traceback": [
      "\u001b[1;31m---------------------------------------------------------------------------\u001b[0m",
      "\u001b[1;31mNameError\u001b[0m                                 Traceback (most recent call last)",
      "\u001b[1;32m<ipython-input-8-41a0db25bac4>\u001b[0m in \u001b[0;36m<module>\u001b[1;34m()\u001b[0m\n\u001b[1;32m----> 1\u001b[1;33m \u001b[0mres\u001b[0m\u001b[1;33m\u001b[0m\u001b[0m\n\u001b[0m",
      "\u001b[1;31mNameError\u001b[0m: name 'res' is not defined"
     ]
    }
   ],
   "source": [
    "res"
   ]
  },
  {
   "cell_type": "code",
   "execution_count": 81,
   "metadata": {
    "collapsed": false
   },
   "outputs": [
    {
     "data": {
      "text/html": [
       "<div>\n",
       "<table border=\"1\" class=\"dataframe\">\n",
       "  <thead>\n",
       "    <tr style=\"text-align: right;\">\n",
       "      <th></th>\n",
       "      <th>0</th>\n",
       "    </tr>\n",
       "  </thead>\n",
       "  <tbody>\n",
       "    <tr>\n",
       "      <th>firstCategoryId</th>\n",
       "      <td>2.00</td>\n",
       "    </tr>\n",
       "    <tr>\n",
       "      <th>fouthCategoryId</th>\n",
       "      <td>15.00</td>\n",
       "    </tr>\n",
       "    <tr>\n",
       "      <th>maxInvestAmount</th>\n",
       "      <td>-1.00</td>\n",
       "    </tr>\n",
       "    <tr>\n",
       "      <th>minInvestAmount</th>\n",
       "      <td>100.00</td>\n",
       "    </tr>\n",
       "    <tr>\n",
       "      <th>perIncAmount</th>\n",
       "      <td>100.00</td>\n",
       "    </tr>\n",
       "    <tr>\n",
       "      <th>productDueDays</th>\n",
       "      <td>181.00</td>\n",
       "    </tr>\n",
       "    <tr>\n",
       "      <th>productId</th>\n",
       "      <td>7049.00</td>\n",
       "    </tr>\n",
       "    <tr>\n",
       "      <th>productRatio</th>\n",
       "      <td>0.06</td>\n",
       "    </tr>\n",
       "    <tr>\n",
       "      <th>secondCategoryId</th>\n",
       "      <td>4.00</td>\n",
       "    </tr>\n",
       "    <tr>\n",
       "      <th>thirdCategoryId</th>\n",
       "      <td>8.00</td>\n",
       "    </tr>\n",
       "  </tbody>\n",
       "</table>\n",
       "</div>"
      ],
      "text/plain": [
       "                        0\n",
       "firstCategoryId      2.00\n",
       "fouthCategoryId     15.00\n",
       "maxInvestAmount     -1.00\n",
       "minInvestAmount    100.00\n",
       "perIncAmount       100.00\n",
       "productDueDays     181.00\n",
       "productId         7049.00\n",
       "productRatio         0.06\n",
       "secondCategoryId     4.00\n",
       "thirdCategoryId      8.00"
      ]
     },
     "execution_count": 81,
     "metadata": {},
     "output_type": "execute_result"
    }
   ],
   "source": [
    "pd.DataFrame(res.iloc[0])"
   ]
  },
  {
   "cell_type": "code",
   "execution_count": 82,
   "metadata": {
    "collapsed": false
   },
   "outputs": [
    {
     "data": {
      "text/plain": [
       "'{\"0\":{\"firstCategoryId\":2.0,\"fouthCategoryId\":15.0,\"maxInvestAmount\":-1.0,\"minInvestAmount\":100.0,\"perIncAmount\":100.0,\"productDueDays\":181.0,\"productId\":7049.0,\"productRatio\":0.06,\"secondCategoryId\":4.0,\"thirdCategoryId\":8.0}}'"
      ]
     },
     "execution_count": 82,
     "metadata": {},
     "output_type": "execute_result"
    }
   ],
   "source": [
    "aa = pd.DataFrame.to_json(pd.DataFrame(res.iloc[0]))\n",
    "aa"
   ]
  },
  {
   "cell_type": "code",
   "execution_count": 83,
   "metadata": {
    "collapsed": false
   },
   "outputs": [
    {
     "data": {
      "text/plain": [
       "'{\"1\":{\"firstCategoryId\":12.0,\"fouthCategoryId\":null,\"maxInvestAmount\":3000.0,\"minInvestAmount\":100.0,\"perIncAmount\":100.0,\"productDueDays\":90.0,\"productId\":7051.0,\"productRatio\":0.1,\"secondCategoryId\":13.0,\"thirdCategoryId\":null}}'"
      ]
     },
     "execution_count": 83,
     "metadata": {},
     "output_type": "execute_result"
    }
   ],
   "source": [
    "bb = pd.DataFrame.to_json(pd.DataFrame(res.iloc[1]))\n",
    "bb"
   ]
  },
  {
   "cell_type": "code",
   "execution_count": 87,
   "metadata": {
    "collapsed": false
   },
   "outputs": [
    {
     "data": {
      "text/plain": [
       "'{\"0\":{\"firstCategoryId\":2.0,\"fouthCategoryId\":15.0,\"maxInvestAmount\":-1.0,\"minInvestAmount\":100.0,\"perIncAmount\":100.0,\"productDueDays\":181.0,\"productId\":7049.0,\"productRatio\":0.06,\"secondCategoryId\":4.0,\"thirdCategoryId\":8.0}'"
      ]
     },
     "execution_count": 87,
     "metadata": {},
     "output_type": "execute_result"
    }
   ],
   "source": [
    "aa[:-1]"
   ]
  },
  {
   "cell_type": "code",
   "execution_count": 88,
   "metadata": {
    "collapsed": false
   },
   "outputs": [
    {
     "data": {
      "text/plain": [
       "'\"1\":{\"firstCategoryId\":12.0,\"fouthCategoryId\":null,\"maxInvestAmount\":3000.0,\"minInvestAmount\":100.0,\"perIncAmount\":100.0,\"productDueDays\":90.0,\"productId\":7051.0,\"productRatio\":0.1,\"secondCategoryId\":13.0,\"thirdCategoryId\":null}}'"
      ]
     },
     "execution_count": 88,
     "metadata": {},
     "output_type": "execute_result"
    }
   ],
   "source": [
    "bb[1:]"
   ]
  },
  {
   "cell_type": "code",
   "execution_count": 89,
   "metadata": {
    "collapsed": false
   },
   "outputs": [
    {
     "data": {
      "text/plain": [
       "'{\"0\":{\"firstCategoryId\":2.0,\"fouthCategoryId\":15.0,\"maxInvestAmount\":-1.0,\"minInvestAmount\":100.0,\"perIncAmount\":100.0,\"productDueDays\":181.0,\"productId\":7049.0,\"productRatio\":0.06,\"secondCategoryId\":4.0,\"thirdCategoryId\":8.0},\"1\":{\"firstCategoryId\":12.0,\"fouthCategoryId\":null,\"maxInvestAmount\":3000.0,\"minInvestAmount\":100.0,\"perIncAmount\":100.0,\"productDueDays\":90.0,\"productId\":7051.0,\"productRatio\":0.1,\"secondCategoryId\":13.0,\"thirdCategoryId\":null}}'"
      ]
     },
     "execution_count": 89,
     "metadata": {},
     "output_type": "execute_result"
    }
   ],
   "source": [
    "aa[:-1] + ',' + bb[1:]"
   ]
  },
  {
   "cell_type": "code",
   "execution_count": 1,
   "metadata": {
    "collapsed": false
   },
   "outputs": [
    {
     "ename": "NameError",
     "evalue": "name 'res' is not defined",
     "output_type": "error",
     "traceback": [
      "\u001b[1;31m---------------------------------------------------------------------------\u001b[0m",
      "\u001b[1;31mNameError\u001b[0m                                 Traceback (most recent call last)",
      "\u001b[1;32m<ipython-input-1-41a0db25bac4>\u001b[0m in \u001b[0;36m<module>\u001b[1;34m()\u001b[0m\n\u001b[1;32m----> 1\u001b[1;33m \u001b[0mres\u001b[0m\u001b[1;33m\u001b[0m\u001b[0m\n\u001b[0m",
      "\u001b[1;31mNameError\u001b[0m: name 'res' is not defined"
     ]
    }
   ],
   "source": [
    "res"
   ]
  },
  {
   "cell_type": "code",
   "execution_count": null,
   "metadata": {
    "collapsed": true
   },
   "outputs": [],
   "source": []
  }
 ],
 "metadata": {
  "kernelspec": {
   "display_name": "Python 2",
   "language": "python",
   "name": "python2"
  },
  "language_info": {
   "codemirror_mode": {
    "name": "ipython",
    "version": 2
   },
   "file_extension": ".py",
   "mimetype": "text/x-python",
   "name": "python",
   "nbconvert_exporter": "python",
   "pygments_lexer": "ipython2",
   "version": "2.7.9"
  }
 },
 "nbformat": 4,
 "nbformat_minor": 0
}
