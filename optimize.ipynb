{
 "cells": [
  {
   "cell_type": "markdown",
   "metadata": {},
   "source": [
    "# Step 1:\n",
    "  模型假设:\n",
    "    1. 7种不同投资产品(投资期限、起投金额、到期收益、剩余可头金额)\n",
    "    2. 4种不同现金优惠券\n",
    "    \n",
    "  注：在用户输入可承受投资期限后，如：360天。后台会自动在产品库中筛选出小于360天的投资产品。"
   ]
  },
  {
   "cell_type": "code",
   "execution_count": 3,
   "metadata": {
    "collapsed": false
   },
   "outputs": [],
   "source": [
    "import numpy as np\n",
    "from scipy.optimize import minimize\n",
    "import pandas as pd"
   ]
  },
  {
   "cell_type": "code",
   "execution_count": 2,
   "metadata": {
    "collapsed": false
   },
   "outputs": [
    {
     "data": {
      "text/html": [
       "<div>\n",
       "<table border=\"1\" class=\"dataframe\">\n",
       "  <thead>\n",
       "    <tr style=\"text-align: right;\">\n",
       "      <th></th>\n",
       "      <th>product_id</th>\n",
       "      <th>rate</th>\n",
       "      <th>duedays</th>\n",
       "      <th>starting</th>\n",
       "      <th>outlanding</th>\n",
       "    </tr>\n",
       "  </thead>\n",
       "  <tbody>\n",
       "    <tr>\n",
       "      <th>3</th>\n",
       "      <td>p_004</td>\n",
       "      <td>0.076</td>\n",
       "      <td>358</td>\n",
       "      <td>500000</td>\n",
       "      <td>510000</td>\n",
       "    </tr>\n",
       "    <tr>\n",
       "      <th>2</th>\n",
       "      <td>p_003</td>\n",
       "      <td>0.073</td>\n",
       "      <td>342</td>\n",
       "      <td>50000</td>\n",
       "      <td>2000000</td>\n",
       "    </tr>\n",
       "    <tr>\n",
       "      <th>6</th>\n",
       "      <td>p_007</td>\n",
       "      <td>0.073</td>\n",
       "      <td>348</td>\n",
       "      <td>50000</td>\n",
       "      <td>130000</td>\n",
       "    </tr>\n",
       "    <tr>\n",
       "      <th>5</th>\n",
       "      <td>p_006</td>\n",
       "      <td>0.070</td>\n",
       "      <td>358</td>\n",
       "      <td>10000</td>\n",
       "      <td>1400000</td>\n",
       "    </tr>\n",
       "    <tr>\n",
       "      <th>1</th>\n",
       "      <td>p_002</td>\n",
       "      <td>0.068</td>\n",
       "      <td>358</td>\n",
       "      <td>1000</td>\n",
       "      <td>1700000</td>\n",
       "    </tr>\n",
       "    <tr>\n",
       "      <th>4</th>\n",
       "      <td>p_005</td>\n",
       "      <td>0.066</td>\n",
       "      <td>348</td>\n",
       "      <td>100</td>\n",
       "      <td>2000000</td>\n",
       "    </tr>\n",
       "    <tr>\n",
       "      <th>0</th>\n",
       "      <td>p_001</td>\n",
       "      <td>0.058</td>\n",
       "      <td>182</td>\n",
       "      <td>100</td>\n",
       "      <td>1500000</td>\n",
       "    </tr>\n",
       "  </tbody>\n",
       "</table>\n",
       "</div>"
      ],
      "text/plain": [
       "  product_id   rate  duedays  starting  outlanding\n",
       "3      p_004  0.076      358    500000      510000\n",
       "2      p_003  0.073      342     50000     2000000\n",
       "6      p_007  0.073      348     50000      130000\n",
       "5      p_006  0.070      358     10000     1400000\n",
       "1      p_002  0.068      358      1000     1700000\n",
       "4      p_005  0.066      348       100     2000000\n",
       "0      p_001  0.058      182       100     1500000"
      ]
     },
     "execution_count": 2,
     "metadata": {},
     "output_type": "execute_result"
    }
   ],
   "source": [
    "product = pd.read_csv(\"/home/dzn/Project/d07_optimize/products.csv\")\n",
    "product = product.sort_values(by = [\"rate\", \"duedays\", \"starting\"], ascending=[False, True, True])\n",
    "product"
   ]
  },
  {
   "cell_type": "code",
   "execution_count": 3,
   "metadata": {
    "collapsed": false
   },
   "outputs": [
    {
     "data": {
      "text/html": [
       "<div>\n",
       "<table border=\"1\" class=\"dataframe\">\n",
       "  <thead>\n",
       "    <tr style=\"text-align: right;\">\n",
       "      <th></th>\n",
       "      <th>product_id</th>\n",
       "      <th>rate</th>\n",
       "      <th>duedays</th>\n",
       "      <th>starting</th>\n",
       "      <th>outlanding</th>\n",
       "    </tr>\n",
       "  </thead>\n",
       "  <tbody>\n",
       "    <tr>\n",
       "      <th>0</th>\n",
       "      <td>p_004</td>\n",
       "      <td>0.076</td>\n",
       "      <td>358</td>\n",
       "      <td>500000</td>\n",
       "      <td>510000</td>\n",
       "    </tr>\n",
       "    <tr>\n",
       "      <th>1</th>\n",
       "      <td>p_003</td>\n",
       "      <td>0.073</td>\n",
       "      <td>342</td>\n",
       "      <td>50000</td>\n",
       "      <td>2000000</td>\n",
       "    </tr>\n",
       "    <tr>\n",
       "      <th>2</th>\n",
       "      <td>p_007</td>\n",
       "      <td>0.073</td>\n",
       "      <td>348</td>\n",
       "      <td>50000</td>\n",
       "      <td>130000</td>\n",
       "    </tr>\n",
       "    <tr>\n",
       "      <th>3</th>\n",
       "      <td>p_006</td>\n",
       "      <td>0.070</td>\n",
       "      <td>358</td>\n",
       "      <td>10000</td>\n",
       "      <td>1400000</td>\n",
       "    </tr>\n",
       "    <tr>\n",
       "      <th>4</th>\n",
       "      <td>p_002</td>\n",
       "      <td>0.068</td>\n",
       "      <td>358</td>\n",
       "      <td>1000</td>\n",
       "      <td>1700000</td>\n",
       "    </tr>\n",
       "    <tr>\n",
       "      <th>5</th>\n",
       "      <td>p_005</td>\n",
       "      <td>0.066</td>\n",
       "      <td>348</td>\n",
       "      <td>100</td>\n",
       "      <td>2000000</td>\n",
       "    </tr>\n",
       "    <tr>\n",
       "      <th>6</th>\n",
       "      <td>p_001</td>\n",
       "      <td>0.058</td>\n",
       "      <td>182</td>\n",
       "      <td>100</td>\n",
       "      <td>1500000</td>\n",
       "    </tr>\n",
       "  </tbody>\n",
       "</table>\n",
       "</div>"
      ],
      "text/plain": [
       "  product_id   rate  duedays  starting  outlanding\n",
       "0      p_004  0.076      358    500000      510000\n",
       "1      p_003  0.073      342     50000     2000000\n",
       "2      p_007  0.073      348     50000      130000\n",
       "3      p_006  0.070      358     10000     1400000\n",
       "4      p_002  0.068      358      1000     1700000\n",
       "5      p_005  0.066      348       100     2000000\n",
       "6      p_001  0.058      182       100     1500000"
      ]
     },
     "execution_count": 3,
     "metadata": {},
     "output_type": "execute_result"
    }
   ],
   "source": [
    "product.index = range(7)\n",
    "product"
   ]
  },
  {
   "cell_type": "code",
   "execution_count": 4,
   "metadata": {
    "collapsed": false
   },
   "outputs": [
    {
     "data": {
      "text/html": [
       "<div>\n",
       "<table border=\"1\" class=\"dataframe\">\n",
       "  <thead>\n",
       "    <tr style=\"text-align: right;\">\n",
       "      <th></th>\n",
       "      <th>coupon_id</th>\n",
       "      <th>starting</th>\n",
       "      <th>rebate</th>\n",
       "      <th>duedays</th>\n",
       "    </tr>\n",
       "  </thead>\n",
       "  <tbody>\n",
       "    <tr>\n",
       "      <th>0</th>\n",
       "      <td>coupon_01</td>\n",
       "      <td>1000</td>\n",
       "      <td>20</td>\n",
       "      <td>342</td>\n",
       "    </tr>\n",
       "    <tr>\n",
       "      <th>1</th>\n",
       "      <td>coupon_02</td>\n",
       "      <td>3000</td>\n",
       "      <td>30</td>\n",
       "      <td>358</td>\n",
       "    </tr>\n",
       "    <tr>\n",
       "      <th>2</th>\n",
       "      <td>coupon_03</td>\n",
       "      <td>100</td>\n",
       "      <td>20</td>\n",
       "      <td>182</td>\n",
       "    </tr>\n",
       "    <tr>\n",
       "      <th>3</th>\n",
       "      <td>coupon_04</td>\n",
       "      <td>5000</td>\n",
       "      <td>50</td>\n",
       "      <td>348</td>\n",
       "    </tr>\n",
       "    <tr>\n",
       "      <th>4</th>\n",
       "      <td>coupon_05</td>\n",
       "      <td>10000</td>\n",
       "      <td>100</td>\n",
       "      <td>358</td>\n",
       "    </tr>\n",
       "    <tr>\n",
       "      <th>5</th>\n",
       "      <td>coupon_06</td>\n",
       "      <td>120</td>\n",
       "      <td>20</td>\n",
       "      <td>358</td>\n",
       "    </tr>\n",
       "  </tbody>\n",
       "</table>\n",
       "</div>"
      ],
      "text/plain": [
       "   coupon_id  starting  rebate  duedays\n",
       "0  coupon_01      1000      20      342\n",
       "1  coupon_02      3000      30      358\n",
       "2  coupon_03       100      20      182\n",
       "3  coupon_04      5000      50      348\n",
       "4  coupon_05     10000     100      358\n",
       "5  coupon_06       120      20      358"
      ]
     },
     "execution_count": 4,
     "metadata": {},
     "output_type": "execute_result"
    }
   ],
   "source": [
    "coupon_loc  = '/home/dzn/Project/d07_optimize/coupons.csv'\n",
    "coupon      = pd.read_csv(coupon_loc)\n",
    "coupon"
   ]
  },
  {
   "cell_type": "code",
   "execution_count": 6,
   "metadata": {
    "collapsed": false
   },
   "outputs": [
    {
     "data": {
      "text/plain": [
       "pandas.core.frame.DataFrame"
      ]
     },
     "execution_count": 6,
     "metadata": {},
     "output_type": "execute_result"
    }
   ],
   "source": [
    "abc = pd.DataFrame()\n",
    "type(abc)"
   ]
  },
  {
   "cell_type": "code",
   "execution_count": 8,
   "metadata": {
    "collapsed": false
   },
   "outputs": [
    {
     "data": {
      "text/plain": [
       "[5, 2, 3, 4]"
      ]
     },
     "execution_count": 8,
     "metadata": {},
     "output_type": "execute_result"
    }
   ],
   "source": [
    "a = [1,2,3,4]\n",
    "a[0] += 4\n",
    "a"
   ]
  },
  {
   "cell_type": "code",
   "execution_count": 12,
   "metadata": {
    "collapsed": false
   },
   "outputs": [
    {
     "data": {
      "text/html": [
       "<div>\n",
       "<table border=\"1\" class=\"dataframe\">\n",
       "  <thead>\n",
       "    <tr style=\"text-align: right;\">\n",
       "      <th></th>\n",
       "      <th>coupon_id</th>\n",
       "      <th>starting</th>\n",
       "      <th>rebate</th>\n",
       "      <th>duedays</th>\n",
       "    </tr>\n",
       "  </thead>\n",
       "  <tbody>\n",
       "    <tr>\n",
       "      <th>0</th>\n",
       "      <td>coupon_01</td>\n",
       "      <td>1000</td>\n",
       "      <td>20</td>\n",
       "      <td>342</td>\n",
       "    </tr>\n",
       "    <tr>\n",
       "      <th>1</th>\n",
       "      <td>coupon_02</td>\n",
       "      <td>3000</td>\n",
       "      <td>30</td>\n",
       "      <td>358</td>\n",
       "    </tr>\n",
       "    <tr>\n",
       "      <th>2</th>\n",
       "      <td>coupon_03</td>\n",
       "      <td>100</td>\n",
       "      <td>20</td>\n",
       "      <td>182</td>\n",
       "    </tr>\n",
       "    <tr>\n",
       "      <th>3</th>\n",
       "      <td>coupon_04</td>\n",
       "      <td>5000</td>\n",
       "      <td>50</td>\n",
       "      <td>348</td>\n",
       "    </tr>\n",
       "    <tr>\n",
       "      <th>4</th>\n",
       "      <td>coupon_05</td>\n",
       "      <td>10000</td>\n",
       "      <td>100</td>\n",
       "      <td>358</td>\n",
       "    </tr>\n",
       "    <tr>\n",
       "      <th>5</th>\n",
       "      <td>coupon_06</td>\n",
       "      <td>120</td>\n",
       "      <td>20</td>\n",
       "      <td>358</td>\n",
       "    </tr>\n",
       "  </tbody>\n",
       "</table>\n",
       "</div>"
      ],
      "text/plain": [
       "   coupon_id  starting  rebate  duedays\n",
       "0  coupon_01      1000      20      342\n",
       "1  coupon_02      3000      30      358\n",
       "2  coupon_03       100      20      182\n",
       "3  coupon_04      5000      50      348\n",
       "4  coupon_05     10000     100      358\n",
       "5  coupon_06       120      20      358"
      ]
     },
     "execution_count": 12,
     "metadata": {},
     "output_type": "execute_result"
    }
   ],
   "source": [
    "coupon = pd.read_csv(\"/home/dzn/Project/d07_optimize/coupons.csv\")\n",
    "coupon"
   ]
  },
  {
   "cell_type": "code",
   "execution_count": 105,
   "metadata": {
    "collapsed": false
   },
   "outputs": [
    {
     "data": {
      "text/plain": [
       "product_id     p_004\n",
       "rate           0.076\n",
       "duedays          358\n",
       "starting      500000\n",
       "outlanding    510000\n",
       "Name: 0, dtype: object"
      ]
     },
     "execution_count": 105,
     "metadata": {},
     "output_type": "execute_result"
    }
   ],
   "source": [
    "product.loc[0,:]"
   ]
  },
  {
   "cell_type": "code",
   "execution_count": 89,
   "metadata": {
    "collapsed": false
   },
   "outputs": [],
   "source": [
    "#np.dot(product.rate, product.starting)"
   ]
  },
  {
   "cell_type": "code",
   "execution_count": 90,
   "metadata": {
    "collapsed": true
   },
   "outputs": [],
   "source": [
    "def dotMultiply(a,b):\n",
    "    result = []\n",
    "    for i in np.arange(len(a)):\n",
    "        result.append(a[i]*b[i])\n",
    "    return result"
   ]
  },
  {
   "cell_type": "code",
   "execution_count": 93,
   "metadata": {
    "collapsed": false
   },
   "outputs": [
    {
     "data": {
      "text/plain": [
       "[38000.0, 3650.0, 3650.0, 700.0, 68.0, 6.6, 5.8]"
      ]
     },
     "execution_count": 93,
     "metadata": {},
     "output_type": "execute_result"
    }
   ],
   "source": [
    "profits = dotMultiply(product.rate,product.starting)\n",
    "[round(i, 2) for i in profits]"
   ]
  },
  {
   "cell_type": "code",
   "execution_count": 83,
   "metadata": {
    "collapsed": false
   },
   "outputs": [
    {
     "data": {
      "text/html": [
       "<div>\n",
       "<table border=\"1\" class=\"dataframe\">\n",
       "  <thead>\n",
       "    <tr style=\"text-align: right;\">\n",
       "      <th></th>\n",
       "      <th>product_id</th>\n",
       "      <th>rate</th>\n",
       "      <th>duedays</th>\n",
       "      <th>starting</th>\n",
       "      <th>outlanding</th>\n",
       "    </tr>\n",
       "  </thead>\n",
       "  <tbody>\n",
       "    <tr>\n",
       "      <th>5</th>\n",
       "      <td>p_005</td>\n",
       "      <td>0.066</td>\n",
       "      <td>348</td>\n",
       "      <td>100</td>\n",
       "      <td>2000000</td>\n",
       "    </tr>\n",
       "    <tr>\n",
       "      <th>6</th>\n",
       "      <td>p_001</td>\n",
       "      <td>0.058</td>\n",
       "      <td>182</td>\n",
       "      <td>100</td>\n",
       "      <td>1500000</td>\n",
       "    </tr>\n",
       "  </tbody>\n",
       "</table>\n",
       "</div>"
      ],
      "text/plain": [
       "  product_id   rate  duedays  starting  outlanding\n",
       "5      p_005  0.066      348       100     2000000\n",
       "6      p_001  0.058      182       100     1500000"
      ]
     },
     "execution_count": 83,
     "metadata": {},
     "output_type": "execute_result"
    }
   ],
   "source": [
    "product = product[product.duedays <= 350]\n",
    "product = product[product.starting <= 10000]\n",
    "product"
   ]
  },
  {
   "cell_type": "code",
   "execution_count": 7,
   "metadata": {
    "collapsed": true
   },
   "outputs": [],
   "source": [
    "# Model Info"
   ]
  },
  {
   "cell_type": "markdown",
   "metadata": {},
   "source": [
    "# Step 2:\n",
    "   建立模型：  \n",
    "     1. x0，x1，...，x6分别对应购买prod_01，prod_02，...，prod_07金额 \n",
    "     2. 建立最大收益函数：\n",
    "        fun = - (x[0]*profits[0] + x[1]*profits[1] + x[2]*profits[2] + x[3]*profits[3] + x[4]*profits[4] + x[5]*profits[5] + x[6]*profits[6])"
   ]
  },
  {
   "cell_type": "code",
   "execution_count": 8,
   "metadata": {
    "collapsed": true
   },
   "outputs": [],
   "source": [
    "#def evalx(a):\n",
    "#    result = a if a > 1 else 0\n",
    "#    return result"
   ]
  },
  {
   "cell_type": "code",
   "execution_count": 9,
   "metadata": {
    "collapsed": false
   },
   "outputs": [],
   "source": [
    "fun = lambda x: -(x[0]*profits[0] + x[1]*profits[1] + x[2]*profits[2] + x[3]*profits[3] + x[4]*profits[4] + x[5]*profits[5] + x[6]*profits[6])  "
   ]
  },
  {
   "cell_type": "markdown",
   "metadata": {},
   "source": [
    "# Step 3:\n",
    "   边界条件:\n",
    "\n",
    "       1. sum(x[0],x[1],...,x[6]) <= 输入投资额 (amount = 20000)\n",
    "       2. any(x[0],x[1],...,x[6]) >= 0\n"
   ]
  },
  {
   "cell_type": "code",
   "execution_count": 10,
   "metadata": {
    "collapsed": true
   },
   "outputs": [],
   "source": [
    "amount = 530000"
   ]
  },
  {
   "cell_type": "code",
   "execution_count": 11,
   "metadata": {
    "collapsed": true
   },
   "outputs": [],
   "source": [
    "#func = amount - (x[0]*product.starting[0] + x[1]*product.starting[1] + x[2]*product.starting[2] + x[3]*product.starting[3] + x[4]*product.starting[4] + x[5]*product.starting[5] + x[6]*product.starting[6])   "
   ]
  },
  {
   "cell_type": "code",
   "execution_count": 12,
   "metadata": {
    "collapsed": true
   },
   "outputs": [],
   "source": [
    "cons = ({'type':'eq', 'fun':lambda x: amount - (x[0]*product.starting[0] + x[1]*product.starting[1] + x[2]*product.starting[2] + x[3]*product.starting[3] + x[4]*product.starting[4] + x[5]*product.starting[5] + x[6]*product.starting[6]) })"
   ]
  },
  {
   "cell_type": "code",
   "execution_count": 13,
   "metadata": {
    "collapsed": true
   },
   "outputs": [],
   "source": [
    "bnds = ((0, None), (0, None), (0, None), (0, 100), (0, 1000), (0, None), (0, None))"
   ]
  },
  {
   "cell_type": "code",
   "execution_count": 14,
   "metadata": {
    "collapsed": false
   },
   "outputs": [
    {
     "data": {
      "text/plain": [
       "[(0, 1.02),\n",
       " (0, 40.0),\n",
       " (0, 2.6),\n",
       " (0, 140.0),\n",
       " (0, 1700.0),\n",
       " (0, 20000.0),\n",
       " (0, 15000.0)]"
      ]
     },
     "execution_count": 14,
     "metadata": {},
     "output_type": "execute_result"
    }
   ],
   "source": [
    "bnds = [(0, 1.0*product.outlanding[i]/product.starting[i])  for i in range(7)]\n",
    "bnds"
   ]
  },
  {
   "cell_type": "code",
   "execution_count": 15,
   "metadata": {
    "collapsed": false
   },
   "outputs": [],
   "source": [
    "#test.append((0, 0))\n",
    "#test"
   ]
  },
  {
   "cell_type": "code",
   "execution_count": 16,
   "metadata": {
    "collapsed": false
   },
   "outputs": [],
   "source": [
    "optimize = minimize(fun, (1, 1, 1, 1, 1, 1, 1), method='SLSQP', bounds=bnds, constraints = cons, options = {'maxiter': 25})"
   ]
  },
  {
   "cell_type": "code",
   "execution_count": 17,
   "metadata": {
    "collapsed": false
   },
   "outputs": [
    {
     "data": {
      "text/plain": [
       "  status: 0\n",
       " success: True\n",
       "    njev: 6\n",
       "    nfev: 75\n",
       "     fun: -40219.999999598585\n",
       "       x: array([  1.02000000e+00,   2.00000001e-01,   2.00000001e-01,\n",
       "         4.99092427e-10,   6.69786108e-11,   8.38000440e-12,\n",
       "         1.51224998e-11])\n",
       " message: 'Optimization terminated successfully.'\n",
       "     jac: array([ -3.80000000e+04,  -3.65000000e+03,  -3.65000000e+03,\n",
       "        -7.00000000e+02,  -6.80000000e+01,  -6.60009766e+00,\n",
       "        -5.79980469e+00,   0.00000000e+00])\n",
       "     nit: 8"
      ]
     },
     "execution_count": 17,
     "metadata": {},
     "output_type": "execute_result"
    }
   ],
   "source": [
    "optimize"
   ]
  },
  {
   "cell_type": "code",
   "execution_count": 18,
   "metadata": {
    "collapsed": false,
    "scrolled": true
   },
   "outputs": [
    {
     "data": {
      "text/plain": [
       "True"
      ]
     },
     "execution_count": 18,
     "metadata": {},
     "output_type": "execute_result"
    }
   ],
   "source": [
    "optimize.success"
   ]
  },
  {
   "cell_type": "code",
   "execution_count": 19,
   "metadata": {
    "collapsed": false
   },
   "outputs": [
    {
     "data": {
      "text/plain": [
       "[1.02, 0.2, 0.2, 0.0, 0.0, 0.0, 0.0]"
      ]
     },
     "execution_count": 19,
     "metadata": {},
     "output_type": "execute_result"
    }
   ],
   "source": [
    "raw_investratio = [round(optimize.x[i], 2) for i in range(7)]\n",
    "raw_investratio"
   ]
  },
  {
   "cell_type": "code",
   "execution_count": 20,
   "metadata": {
    "collapsed": false
   },
   "outputs": [
    {
     "data": {
      "text/plain": [
       "[510000.0, 10000.0, 10000.0, 0.0, 0.0, 0.0, 0.0]"
      ]
     },
     "execution_count": 20,
     "metadata": {},
     "output_type": "execute_result"
    }
   ],
   "source": [
    "raw_investamount = [round(v * product.starting[i], 2) for i, v  in enumerate(optimize.x)]\n",
    "raw_investamount "
   ]
  },
  {
   "cell_type": "code",
   "execution_count": 21,
   "metadata": {
    "collapsed": false
   },
   "outputs": [
    {
     "data": {
      "text/plain": [
       "20000.0"
      ]
     },
     "execution_count": 21,
     "metadata": {},
     "output_type": "execute_result"
    }
   ],
   "source": [
    "need_invest = [raw_investamount[i] for i in range(len(raw_investamount)) if raw_investratio[i] > 0 and raw_investratio[i] < 1]\n",
    "need_invest =sum(need_invest)\n",
    "need_invest"
   ]
  },
  {
   "cell_type": "code",
   "execution_count": 42,
   "metadata": {
    "collapsed": true
   },
   "outputs": [],
   "source": [
    "raw_investratio = [0, 0, 0, 0, 0, 0, 0]\n",
    "need_invest = 530000"
   ]
  },
  {
   "cell_type": "code",
   "execution_count": 49,
   "metadata": {
    "collapsed": false
   },
   "outputs": [],
   "source": [
    "def optimizeInvest(invest, product, raw_investratio, profits):\n",
    "    \n",
    "    tmp = 0\n",
    "    investratio = []\n",
    "    prod_cnt = len(raw_investratio)\n",
    "    for i, v in enumerate(raw_investratio):\n",
    "        if v >= 1:\n",
    "            investratio.append(v)\n",
    "        elif v > 0 and v < 1 :\n",
    "            tmp = i\n",
    "            break\n",
    "    print(investratio)\n",
    "    new_product = product.loc[range(tmp, prod_cnt),:]\n",
    "    new_product.index = range(len(new_product))\n",
    "    print(new_product)\n",
    "    print(invest)\n",
    "    t = 0\n",
    "    while invest > 0 and t < 4:\n",
    "        for i in range(len(new_product)):\n",
    "            print(i)\n",
    "            t += 1\n",
    "            if invest >= new_product.starting[i] :\n",
    "                if invest <= new_product.outlanding[i] :\n",
    "                    investratio.append( 1.0*invest/new_product.starting[i] )\n",
    "                    invest = 0\n",
    "                else :\n",
    "                    investratio.append( 1.0*new_product.outlanding[i]/new_product.starting[i] )\n",
    "                    invest = invest - new_product.outlanding[i]\n",
    "                    new_product = new_product.loc[range(i+1, len(new_product)), :]\n",
    "                    new_product.index = range(len(new_product))\n",
    "                break\n",
    "            else :\n",
    "                investratio.append(0)\n",
    "                new_product = new_product.loc[range(i+1, len(new_product)), :]\n",
    "                new_product.index = range(len(new_product))\n",
    "                break\n",
    "    #result = np.dot(profits, investratio)    \n",
    "    return investratio\n",
    " "
   ]
  },
  {
   "cell_type": "code",
   "execution_count": 50,
   "metadata": {
    "collapsed": false
   },
   "outputs": [
    {
     "name": "stdout",
     "output_type": "stream",
     "text": [
      "[]\n",
      "  product_id   rate  duedays  starting  outlanding\n",
      "0      p_004  0.076      358    500000      510000\n",
      "1      p_003  0.073      342     50000     2000000\n",
      "2      p_007  0.073      348     50000      130000\n",
      "3      p_006  0.070      358     10000     1400000\n",
      "4      p_002  0.068      358      1000     1700000\n",
      "5      p_005  0.066      348       100     2000000\n",
      "6      p_001  0.058      182       100     1500000\n",
      "530000\n",
      "0\n",
      "0\n",
      "0\n",
      "0\n"
     ]
    }
   ],
   "source": [
    "bbb = optimizeInvest(need_invest, product, raw_investratio, profits)"
   ]
  },
  {
   "cell_type": "code",
   "execution_count": 51,
   "metadata": {
    "collapsed": false
   },
   "outputs": [
    {
     "data": {
      "text/plain": [
       "[1.02, 0, 0, 2.0]"
      ]
     },
     "execution_count": 51,
     "metadata": {},
     "output_type": "execute_result"
    }
   ],
   "source": [
    "bbb"
   ]
  },
  {
   "cell_type": "code",
   "execution_count": 54,
   "metadata": {
    "collapsed": false
   },
   "outputs": [
    {
     "data": {
      "text/plain": [
       "False"
      ]
     },
     "execution_count": 54,
     "metadata": {},
     "output_type": "execute_result"
    }
   ],
   "source": [
    "max(bbb) > 3"
   ]
  },
  {
   "cell_type": "code",
   "execution_count": 32,
   "metadata": {
    "collapsed": false
   },
   "outputs": [
    {
     "data": {
      "text/html": [
       "<div>\n",
       "<table border=\"1\" class=\"dataframe\">\n",
       "  <thead>\n",
       "    <tr style=\"text-align: right;\">\n",
       "      <th></th>\n",
       "      <th>product_id</th>\n",
       "      <th>rate</th>\n",
       "      <th>duedays</th>\n",
       "      <th>starting</th>\n",
       "      <th>outlanding</th>\n",
       "    </tr>\n",
       "  </thead>\n",
       "  <tbody>\n",
       "    <tr>\n",
       "      <th>0</th>\n",
       "      <td>p_004</td>\n",
       "      <td>0.076</td>\n",
       "      <td>358</td>\n",
       "      <td>500000</td>\n",
       "      <td>510000</td>\n",
       "    </tr>\n",
       "    <tr>\n",
       "      <th>1</th>\n",
       "      <td>p_003</td>\n",
       "      <td>0.073</td>\n",
       "      <td>342</td>\n",
       "      <td>50000</td>\n",
       "      <td>2000000</td>\n",
       "    </tr>\n",
       "    <tr>\n",
       "      <th>2</th>\n",
       "      <td>p_007</td>\n",
       "      <td>0.073</td>\n",
       "      <td>348</td>\n",
       "      <td>50000</td>\n",
       "      <td>130000</td>\n",
       "    </tr>\n",
       "    <tr>\n",
       "      <th>3</th>\n",
       "      <td>p_006</td>\n",
       "      <td>0.070</td>\n",
       "      <td>358</td>\n",
       "      <td>10000</td>\n",
       "      <td>1400000</td>\n",
       "    </tr>\n",
       "  </tbody>\n",
       "</table>\n",
       "</div>"
      ],
      "text/plain": [
       "  product_id   rate  duedays  starting  outlanding\n",
       "0      p_004  0.076      358    500000      510000\n",
       "1      p_003  0.073      342     50000     2000000\n",
       "2      p_007  0.073      348     50000      130000\n",
       "3      p_006  0.070      358     10000     1400000"
      ]
     },
     "execution_count": 32,
     "metadata": {},
     "output_type": "execute_result"
    }
   ],
   "source": [
    "a = product.loc[[i for i in range(4)],:]\n",
    "a"
   ]
  },
  {
   "cell_type": "code",
   "execution_count": 36,
   "metadata": {
    "collapsed": false
   },
   "outputs": [
    {
     "data": {
      "text/plain": [
       "[510000.0, 0, 0, 20000.0]"
      ]
     },
     "execution_count": 36,
     "metadata": {},
     "output_type": "execute_result"
    }
   ],
   "source": [
    "portfolio = dotMultiply(bbb, a.starting)\n",
    "portfolio"
   ]
  },
  {
   "cell_type": "code",
   "execution_count": 33,
   "metadata": {
    "collapsed": false,
    "scrolled": true
   },
   "outputs": [
    {
     "data": {
      "text/plain": [
       "[38000.0, 3649.9999999999995, 3649.9999999999995, 700.00000000000011]"
      ]
     },
     "execution_count": 33,
     "metadata": {},
     "output_type": "execute_result"
    }
   ],
   "source": [
    "profits[:4]"
   ]
  },
  {
   "cell_type": "code",
   "execution_count": 37,
   "metadata": {
    "collapsed": false
   },
   "outputs": [
    {
     "data": {
      "text/plain": [
       "40160.0"
      ]
     },
     "execution_count": 37,
     "metadata": {},
     "output_type": "execute_result"
    }
   ],
   "source": [
    "profit = np.dot(bbb, profits[:len(bbb)])\n",
    "profit"
   ]
  },
  {
   "cell_type": "code",
   "execution_count": 66,
   "metadata": {
    "collapsed": false
   },
   "outputs": [
    {
     "data": {
      "text/plain": [
       "product_id     p_007\n",
       "rate           0.073\n",
       "duedays          348\n",
       "starting       50000\n",
       "outlanding    130000\n",
       "Name: 2, dtype: object"
      ]
     },
     "execution_count": 66,
     "metadata": {},
     "output_type": "execute_result"
    }
   ],
   "source": [
    "a.loc[2,:]"
   ]
  },
  {
   "cell_type": "code",
   "execution_count": 59,
   "metadata": {
    "collapsed": false
   },
   "outputs": [
    {
     "data": {
      "text/plain": [
       "<bound method DataFrame.pop of   product_id   rate  duedays  starting  outlanding\n",
       "0      p_004  0.076      358    500000      510000\n",
       "1      p_003  0.073      342     50000     2000000\n",
       "2      p_007  0.073      348     50000      130000\n",
       "3      p_006  0.070      358     10000     1400000\n",
       "4      p_002  0.068      358      1000     1700000\n",
       "5      p_005  0.066      348       100     2000000\n",
       "6      p_001  0.058      182       100     1500000>"
      ]
     },
     "execution_count": 59,
     "metadata": {},
     "output_type": "execute_result"
    }
   ],
   "source": [
    "product.pop"
   ]
  },
  {
   "cell_type": "code",
   "execution_count": 72,
   "metadata": {
    "collapsed": false
   },
   "outputs": [
    {
     "ename": "AttributeError",
     "evalue": "'DataFrame' object has no attribute 'prduct_id'",
     "output_type": "error",
     "traceback": [
      "\u001b[1;31m---------------------------------------------------------------------------\u001b[0m",
      "\u001b[1;31mAttributeError\u001b[0m                            Traceback (most recent call last)",
      "\u001b[1;32m<ipython-input-72-756e42625a86>\u001b[0m in \u001b[0;36m<module>\u001b[1;34m()\u001b[0m\n\u001b[1;32m----> 1\u001b[1;33m \u001b[0mproduct\u001b[0m\u001b[1;33m.\u001b[0m\u001b[0mprduct_id\u001b[0m\u001b[1;33m[\u001b[0m\u001b[1;33m:\u001b[0m\u001b[1;36m3\u001b[0m\u001b[1;33m]\u001b[0m\u001b[1;33m\u001b[0m\u001b[0m\n\u001b[0m",
      "\u001b[1;32m/usr/local/lib/python2.7/site-packages/pandas-0.17.1-py2.7-linux-x86_64.egg/pandas/core/generic.pyc\u001b[0m in \u001b[0;36m__getattr__\u001b[1;34m(self, name)\u001b[0m\n\u001b[0;32m   2358\u001b[0m                 \u001b[1;32mreturn\u001b[0m \u001b[0mself\u001b[0m\u001b[1;33m[\u001b[0m\u001b[0mname\u001b[0m\u001b[1;33m]\u001b[0m\u001b[1;33m\u001b[0m\u001b[0m\n\u001b[0;32m   2359\u001b[0m             raise AttributeError(\"'%s' object has no attribute '%s'\" %\n\u001b[1;32m-> 2360\u001b[1;33m                                  (type(self).__name__, name))\n\u001b[0m\u001b[0;32m   2361\u001b[0m \u001b[1;33m\u001b[0m\u001b[0m\n\u001b[0;32m   2362\u001b[0m     \u001b[1;32mdef\u001b[0m \u001b[0m__setattr__\u001b[0m\u001b[1;33m(\u001b[0m\u001b[0mself\u001b[0m\u001b[1;33m,\u001b[0m \u001b[0mname\u001b[0m\u001b[1;33m,\u001b[0m \u001b[0mvalue\u001b[0m\u001b[1;33m)\u001b[0m\u001b[1;33m:\u001b[0m\u001b[1;33m\u001b[0m\u001b[0m\n",
      "\u001b[1;31mAttributeError\u001b[0m: 'DataFrame' object has no attribute 'prduct_id'"
     ]
    }
   ],
   "source": []
  },
  {
   "cell_type": "code",
   "execution_count": 15,
   "metadata": {
    "collapsed": false
   },
   "outputs": [
    {
     "data": {
      "text/plain": [
       "40220.0"
      ]
     },
     "execution_count": 15,
     "metadata": {},
     "output_type": "execute_result"
    }
   ],
   "source": [
    "-1*round(optimize.fun, 2)"
   ]
  },
  {
   "cell_type": "code",
   "execution_count": 64,
   "metadata": {
    "collapsed": false
   },
   "outputs": [],
   "source": [
    "a = ['x', 'y', 'z']\n",
    "b = [1, 2, 2]\n",
    "c = []\n",
    "for i, v in enumerate(a):\n",
    "    c.append(v+\"*\"+str(b[i]))\n",
    "    if i < 2:\n",
    "        c.append(\"+\")"
   ]
  },
  {
   "cell_type": "code",
   "execution_count": 47,
   "metadata": {
    "collapsed": false,
    "scrolled": true
   },
   "outputs": [
    {
     "data": {
      "text/plain": [
       "'x*1+y*2+z*2'"
      ]
     },
     "execution_count": 47,
     "metadata": {},
     "output_type": "execute_result"
    }
   ],
   "source": [
    "''.join(i for i in c)"
   ]
  },
  {
   "cell_type": "code",
   "execution_count": 70,
   "metadata": {
    "collapsed": true
   },
   "outputs": [],
   "source": [
    "def formula(a,b):\n",
    "    exp = []\n",
    "    for i, v in enumerate(a):\n",
    "        exp.append(v+\"*\"+str(b[i]))\n",
    "        if i < len(a) -1 :\n",
    "            exp.append(\"+\")\n",
    "    return ' '.join(i for i in exp)"
   ]
  },
  {
   "cell_type": "code",
   "execution_count": 71,
   "metadata": {
    "collapsed": false
   },
   "outputs": [
    {
     "data": {
      "text/plain": [
       "'x*1 + y*2 + z*2'"
      ]
     },
     "execution_count": 71,
     "metadata": {},
     "output_type": "execute_result"
    }
   ],
   "source": [
    "formula(a, b)"
   ]
  },
  {
   "cell_type": "code",
   "execution_count": 206,
   "metadata": {
    "collapsed": true
   },
   "outputs": [],
   "source": [
    "a = pd.read_csv(\"a.csv\")"
   ]
  },
  {
   "cell_type": "code",
   "execution_count": 207,
   "metadata": {
    "collapsed": false
   },
   "outputs": [
    {
     "data": {
      "text/html": [
       "<div>\n",
       "<table border=\"1\" class=\"dataframe\">\n",
       "  <thead>\n",
       "    <tr style=\"text-align: right;\">\n",
       "      <th></th>\n",
       "      <th>mobile_3</th>\n",
       "      <th>cnt</th>\n",
       "    </tr>\n",
       "  </thead>\n",
       "  <tbody>\n",
       "    <tr>\n",
       "      <th>0</th>\n",
       "      <td>130</td>\n",
       "      <td>1</td>\n",
       "    </tr>\n",
       "    <tr>\n",
       "      <th>1</th>\n",
       "      <td>130</td>\n",
       "      <td>1</td>\n",
       "    </tr>\n",
       "    <tr>\n",
       "      <th>2</th>\n",
       "      <td>130</td>\n",
       "      <td>1</td>\n",
       "    </tr>\n",
       "    <tr>\n",
       "      <th>3</th>\n",
       "      <td>130</td>\n",
       "      <td>1</td>\n",
       "    </tr>\n",
       "    <tr>\n",
       "      <th>4</th>\n",
       "      <td>130</td>\n",
       "      <td>1</td>\n",
       "    </tr>\n",
       "  </tbody>\n",
       "</table>\n",
       "</div>"
      ],
      "text/plain": [
       "   mobile_3  cnt\n",
       "0       130    1\n",
       "1       130    1\n",
       "2       130    1\n",
       "3       130    1\n",
       "4       130    1"
      ]
     },
     "execution_count": 207,
     "metadata": {},
     "output_type": "execute_result"
    }
   ],
   "source": [
    "a.head()"
   ]
  },
  {
   "cell_type": "code",
   "execution_count": 208,
   "metadata": {
    "collapsed": false
   },
   "outputs": [],
   "source": [
    "b = a.cnt.groupby(a.mobile_3)"
   ]
  },
  {
   "cell_type": "code",
   "execution_count": 210,
   "metadata": {
    "collapsed": false
   },
   "outputs": [
    {
     "data": {
      "text/plain": [
       "mobile_3\n",
       "130    9589\n",
       "131    9105\n",
       "132    8216\n",
       "133     700\n",
       "134    2629\n",
       "135    1302\n",
       "136    1079\n",
       "137    2615\n",
       "138      91\n",
       "139      51\n",
       "147     153\n",
       "150     983\n",
       "151     974\n",
       "152    1254\n",
       "153     441\n",
       "155    4409\n",
       "156    6683\n",
       "157     845\n",
       "158    1533\n",
       "159    1545\n",
       "170    1255\n",
       "171      98\n",
       "173       1\n",
       "175       1\n",
       "177      24\n",
       "178     256\n",
       "180     323\n",
       "181      74\n",
       "182     642\n",
       "183     668\n",
       "184     927\n",
       "185      68\n",
       "186    1297\n",
       "187     718\n",
       "188     986\n",
       "189     217\n",
       "dtype: int64"
      ]
     },
     "execution_count": 210,
     "metadata": {},
     "output_type": "execute_result"
    }
   ],
   "source": [
    "b.count()"
   ]
  },
  {
   "cell_type": "code",
   "execution_count": 219,
   "metadata": {
    "collapsed": false
   },
   "outputs": [],
   "source": [
    "import random\n",
    "random.seed(1)"
   ]
  },
  {
   "cell_type": "code",
   "execution_count": 224,
   "metadata": {
    "collapsed": false
   },
   "outputs": [
    {
     "data": {
      "text/plain": [
       "[3, 9, 8, 1, 7]"
      ]
     },
     "execution_count": 224,
     "metadata": {},
     "output_type": "execute_result"
    }
   ],
   "source": [
    "list = [1, 2, 3, 4, 5, 6, 7, 8, 9, 10]\n",
    "slice = random.sample(list, 5)\n",
    "slice"
   ]
  },
  {
   "cell_type": "code",
   "execution_count": 225,
   "metadata": {
    "collapsed": false
   },
   "outputs": [
    {
     "data": {
      "text/html": [
       "<div>\n",
       "<table border=\"1\" class=\"dataframe\">\n",
       "  <thead>\n",
       "    <tr style=\"text-align: right;\">\n",
       "      <th></th>\n",
       "      <th>product_id</th>\n",
       "      <th>rate</th>\n",
       "      <th>duedays</th>\n",
       "      <th>starting</th>\n",
       "      <th>outlanding</th>\n",
       "    </tr>\n",
       "  </thead>\n",
       "  <tbody>\n",
       "    <tr>\n",
       "      <th>0</th>\n",
       "      <td>p_001</td>\n",
       "      <td>0.058</td>\n",
       "      <td>182</td>\n",
       "      <td>100</td>\n",
       "      <td>1500000</td>\n",
       "    </tr>\n",
       "    <tr>\n",
       "      <th>1</th>\n",
       "      <td>p_005</td>\n",
       "      <td>0.066</td>\n",
       "      <td>348</td>\n",
       "      <td>100</td>\n",
       "      <td>2000000</td>\n",
       "    </tr>\n",
       "    <tr>\n",
       "      <th>2</th>\n",
       "      <td>p_002</td>\n",
       "      <td>0.068</td>\n",
       "      <td>358</td>\n",
       "      <td>1000</td>\n",
       "      <td>1700000</td>\n",
       "    </tr>\n",
       "    <tr>\n",
       "      <th>3</th>\n",
       "      <td>p_006</td>\n",
       "      <td>0.070</td>\n",
       "      <td>358</td>\n",
       "      <td>10000</td>\n",
       "      <td>1400000</td>\n",
       "    </tr>\n",
       "    <tr>\n",
       "      <th>4</th>\n",
       "      <td>p_007</td>\n",
       "      <td>0.073</td>\n",
       "      <td>348</td>\n",
       "      <td>50000</td>\n",
       "      <td>130000</td>\n",
       "    </tr>\n",
       "    <tr>\n",
       "      <th>5</th>\n",
       "      <td>p_003</td>\n",
       "      <td>0.073</td>\n",
       "      <td>342</td>\n",
       "      <td>50000</td>\n",
       "      <td>2000000</td>\n",
       "    </tr>\n",
       "    <tr>\n",
       "      <th>6</th>\n",
       "      <td>p_004</td>\n",
       "      <td>0.076</td>\n",
       "      <td>358</td>\n",
       "      <td>500000</td>\n",
       "      <td>510000</td>\n",
       "    </tr>\n",
       "  </tbody>\n",
       "</table>\n",
       "</div>"
      ],
      "text/plain": [
       "  product_id   rate  duedays  starting  outlanding\n",
       "0      p_001  0.058      182       100     1500000\n",
       "1      p_005  0.066      348       100     2000000\n",
       "2      p_002  0.068      358      1000     1700000\n",
       "3      p_006  0.070      358     10000     1400000\n",
       "4      p_007  0.073      348     50000      130000\n",
       "5      p_003  0.073      342     50000     2000000\n",
       "6      p_004  0.076      358    500000      510000"
      ]
     },
     "execution_count": 225,
     "metadata": {},
     "output_type": "execute_result"
    }
   ],
   "source": [
    "product"
   ]
  },
  {
   "cell_type": "code",
   "execution_count": 228,
   "metadata": {
    "collapsed": false
   },
   "outputs": [
    {
     "data": {
      "text/html": [
       "<div>\n",
       "<table border=\"1\" class=\"dataframe\">\n",
       "  <thead>\n",
       "    <tr style=\"text-align: right;\">\n",
       "      <th></th>\n",
       "      <th>product_id</th>\n",
       "      <th>rate</th>\n",
       "      <th>duedays</th>\n",
       "      <th>starting</th>\n",
       "      <th>outlanding</th>\n",
       "    </tr>\n",
       "  </thead>\n",
       "  <tbody>\n",
       "    <tr>\n",
       "      <th>3</th>\n",
       "      <td>p_006</td>\n",
       "      <td>0.070</td>\n",
       "      <td>358</td>\n",
       "      <td>10000</td>\n",
       "      <td>1400000</td>\n",
       "    </tr>\n",
       "    <tr>\n",
       "      <th>9</th>\n",
       "      <td>NaN</td>\n",
       "      <td>NaN</td>\n",
       "      <td>NaN</td>\n",
       "      <td>NaN</td>\n",
       "      <td>NaN</td>\n",
       "    </tr>\n",
       "    <tr>\n",
       "      <th>8</th>\n",
       "      <td>NaN</td>\n",
       "      <td>NaN</td>\n",
       "      <td>NaN</td>\n",
       "      <td>NaN</td>\n",
       "      <td>NaN</td>\n",
       "    </tr>\n",
       "    <tr>\n",
       "      <th>1</th>\n",
       "      <td>p_005</td>\n",
       "      <td>0.066</td>\n",
       "      <td>348</td>\n",
       "      <td>100</td>\n",
       "      <td>2000000</td>\n",
       "    </tr>\n",
       "    <tr>\n",
       "      <th>7</th>\n",
       "      <td>NaN</td>\n",
       "      <td>NaN</td>\n",
       "      <td>NaN</td>\n",
       "      <td>NaN</td>\n",
       "      <td>NaN</td>\n",
       "    </tr>\n",
       "  </tbody>\n",
       "</table>\n",
       "</div>"
      ],
      "text/plain": [
       "  product_id   rate  duedays  starting  outlanding\n",
       "3      p_006  0.070      358     10000     1400000\n",
       "9        NaN    NaN      NaN       NaN         NaN\n",
       "8        NaN    NaN      NaN       NaN         NaN\n",
       "1      p_005  0.066      348       100     2000000\n",
       "7        NaN    NaN      NaN       NaN         NaN"
      ]
     },
     "execution_count": 228,
     "metadata": {},
     "output_type": "execute_result"
    }
   ],
   "source": [
    "product.loc[slice,:]"
   ]
  },
  {
   "cell_type": "code",
   "execution_count": null,
   "metadata": {
    "collapsed": true
   },
   "outputs": [],
   "source": []
  }
 ],
 "metadata": {
  "kernelspec": {
   "display_name": "Python 2",
   "language": "python",
   "name": "python2"
  },
  "language_info": {
   "codemirror_mode": {
    "name": "ipython",
    "version": 2
   },
   "file_extension": ".py",
   "mimetype": "text/x-python",
   "name": "python",
   "nbconvert_exporter": "python",
   "pygments_lexer": "ipython2",
   "version": "2.7.9"
  }
 },
 "nbformat": 4,
 "nbformat_minor": 0
}
